{
  "nbformat": 4,
  "nbformat_minor": 0,
  "metadata": {
    "colab": {
      "name": "8. MPNeuronAndPerceptron-1550141205767.ipynb",
      "version": "0.3.2",
      "provenance": [],
      "collapsed_sections": [
        "fT9sC0UKb12E",
        "HsV1gX3Ge-WC",
        "nNPjMZiwvwp6"
      ],
      "include_colab_link": true
    },
    "kernelspec": {
      "display_name": "Python 3",
      "language": "python",
      "name": "python3"
    }
  },
  "cells": [
    {
      "cell_type": "markdown",
      "metadata": {
        "id": "view-in-github",
        "colab_type": "text"
      },
      "source": [
        "<a href=\"https://colab.research.google.com/github/sudhirk999/O4thLab/blob/master/8.MPNeuronAndPerceptron_1550141205767.ipynb\" target=\"_parent\"><img src=\"https://colab.research.google.com/assets/colab-badge.svg\" alt=\"Open In Colab\"/></a>"
      ]
    },
    {
      "metadata": {
        "colab_type": "code",
        "id": "Y62le--iNQ_g",
        "colab": {}
      },
      "cell_type": "code",
      "source": [
        "import sklearn.datasets\n",
        "import numpy as np"
      ],
      "execution_count": 0,
      "outputs": []
    },
    {
      "metadata": {
        "colab_type": "text",
        "id": "AYxDp-YaUEEC"
      },
      "cell_type": "markdown",
      "source": [
        "# Loading dataset"
      ]
    },
    {
      "metadata": {
        "colab_type": "code",
        "id": "ClBCeOpjPvw3",
        "colab": {}
      },
      "cell_type": "code",
      "source": [
        "breast_cancer = sklearn.datasets.load_breast_cancer()"
      ],
      "execution_count": 0,
      "outputs": []
    },
    {
      "metadata": {
        "colab_type": "code",
        "id": "vKGZCnP7P68V",
        "colab": {}
      },
      "cell_type": "code",
      "source": [
        "X = breast_cancer.data\n",
        "Y = breast_cancer.target"
      ],
      "execution_count": 0,
      "outputs": []
    },
    {
      "metadata": {
        "colab_type": "code",
        "id": "9SMigpY8QCv5",
        "outputId": "9bba3be4-a3f4-4444-b4e8-c568b780e553",
        "colab": {
          "base_uri": "https://localhost:8080/",
          "height": 408
        }
      },
      "cell_type": "code",
      "source": [
        "print(X)\n",
        "print(Y)"
      ],
      "execution_count": 4,
      "outputs": [
        {
          "output_type": "stream",
          "text": [
            "[[1.799e+01 1.038e+01 1.228e+02 ... 2.654e-01 4.601e-01 1.189e-01]\n",
            " [2.057e+01 1.777e+01 1.329e+02 ... 1.860e-01 2.750e-01 8.902e-02]\n",
            " [1.969e+01 2.125e+01 1.300e+02 ... 2.430e-01 3.613e-01 8.758e-02]\n",
            " ...\n",
            " [1.660e+01 2.808e+01 1.083e+02 ... 1.418e-01 2.218e-01 7.820e-02]\n",
            " [2.060e+01 2.933e+01 1.401e+02 ... 2.650e-01 4.087e-01 1.240e-01]\n",
            " [7.760e+00 2.454e+01 4.792e+01 ... 0.000e+00 2.871e-01 7.039e-02]]\n",
            "[0 0 0 0 0 0 0 0 0 0 0 0 0 0 0 0 0 0 0 1 1 1 0 0 0 0 0 0 0 0 0 0 0 0 0 0 0\n",
            " 1 0 0 0 0 0 0 0 0 1 0 1 1 1 1 1 0 0 1 0 0 1 1 1 1 0 1 0 0 1 1 1 1 0 1 0 0\n",
            " 1 0 1 0 0 1 1 1 0 0 1 0 0 0 1 1 1 0 1 1 0 0 1 1 1 0 0 1 1 1 1 0 1 1 0 1 1\n",
            " 1 1 1 1 1 1 0 0 0 1 0 0 1 1 1 0 0 1 0 1 0 0 1 0 0 1 1 0 1 1 0 1 1 1 1 0 1\n",
            " 1 1 1 1 1 1 1 1 0 1 1 1 1 0 0 1 0 1 1 0 0 1 1 0 0 1 1 1 1 0 1 1 0 0 0 1 0\n",
            " 1 0 1 1 1 0 1 1 0 0 1 0 0 0 0 1 0 0 0 1 0 1 0 1 1 0 1 0 0 0 0 1 1 0 0 1 1\n",
            " 1 0 1 1 1 1 1 0 0 1 1 0 1 1 0 0 1 0 1 1 1 1 0 1 1 1 1 1 0 1 0 0 0 0 0 0 0\n",
            " 0 0 0 0 0 0 0 1 1 1 1 1 1 0 1 0 1 1 0 1 1 0 1 0 0 1 1 1 1 1 1 1 1 1 1 1 1\n",
            " 1 0 1 1 0 1 0 1 1 1 1 1 1 1 1 1 1 1 1 1 1 0 1 1 1 0 1 0 1 1 1 1 0 0 0 1 1\n",
            " 1 1 0 1 0 1 0 1 1 1 0 1 1 1 1 1 1 1 0 0 0 1 1 1 1 1 1 1 1 1 1 1 0 0 1 0 0\n",
            " 0 1 0 0 1 1 1 1 1 0 1 1 1 1 1 0 1 1 1 0 1 1 0 0 1 1 1 1 1 1 0 1 1 1 1 1 1\n",
            " 1 0 1 1 1 1 1 0 1 1 0 1 1 1 1 1 1 1 1 1 1 1 1 0 1 0 0 1 0 1 1 1 1 1 0 1 1\n",
            " 0 1 0 1 1 0 1 0 1 1 1 1 1 1 1 1 0 0 1 1 1 1 1 1 0 1 1 1 1 1 1 1 1 1 1 0 1\n",
            " 1 1 1 1 1 1 0 1 0 1 1 0 1 1 1 1 1 0 0 1 0 1 0 1 1 1 1 1 0 1 1 0 1 0 1 0 0\n",
            " 1 1 1 0 1 1 1 1 1 1 1 1 1 1 1 0 1 0 0 1 1 1 1 1 1 1 1 1 1 1 1 1 1 1 1 1 1\n",
            " 1 1 1 1 1 1 1 0 0 0 0 0 0 1]\n"
          ],
          "name": "stdout"
        }
      ]
    },
    {
      "metadata": {
        "colab_type": "code",
        "id": "3iCYauzdQGdh",
        "outputId": "da0db35f-557b-4604-adb1-a748411e1744",
        "colab": {
          "base_uri": "https://localhost:8080/",
          "height": 34
        }
      },
      "cell_type": "code",
      "source": [
        "print(X.shape, Y.shape)"
      ],
      "execution_count": 5,
      "outputs": [
        {
          "output_type": "stream",
          "text": [
            "(569, 30) (569,)\n"
          ],
          "name": "stdout"
        }
      ]
    },
    {
      "metadata": {
        "colab_type": "code",
        "id": "hCq2K5Z_QLv5",
        "colab": {}
      },
      "cell_type": "code",
      "source": [
        "import pandas as pd"
      ],
      "execution_count": 0,
      "outputs": []
    },
    {
      "metadata": {
        "colab_type": "code",
        "id": "uqtmARD9QS_R",
        "colab": {}
      },
      "cell_type": "code",
      "source": [
        "data = pd.DataFrame(breast_cancer.data, columns=breast_cancer.feature_names)"
      ],
      "execution_count": 0,
      "outputs": []
    },
    {
      "metadata": {
        "colab_type": "code",
        "id": "uoDddCZWQZvL",
        "colab": {}
      },
      "cell_type": "code",
      "source": [
        "data['class'] = breast_cancer.target"
      ],
      "execution_count": 0,
      "outputs": []
    },
    {
      "metadata": {
        "colab_type": "code",
        "id": "o0rmnx3LQfUY",
        "outputId": "f0d33444-d4f2-41ee-bf04-155495acdab6",
        "colab": {
          "base_uri": "https://localhost:8080/",
          "height": 287
        }
      },
      "cell_type": "code",
      "source": [
        "data.head()"
      ],
      "execution_count": 9,
      "outputs": [
        {
          "output_type": "execute_result",
          "data": {
            "text/html": [
              "<div>\n",
              "<style scoped>\n",
              "    .dataframe tbody tr th:only-of-type {\n",
              "        vertical-align: middle;\n",
              "    }\n",
              "\n",
              "    .dataframe tbody tr th {\n",
              "        vertical-align: top;\n",
              "    }\n",
              "\n",
              "    .dataframe thead th {\n",
              "        text-align: right;\n",
              "    }\n",
              "</style>\n",
              "<table border=\"1\" class=\"dataframe\">\n",
              "  <thead>\n",
              "    <tr style=\"text-align: right;\">\n",
              "      <th></th>\n",
              "      <th>mean radius</th>\n",
              "      <th>mean texture</th>\n",
              "      <th>mean perimeter</th>\n",
              "      <th>mean area</th>\n",
              "      <th>mean smoothness</th>\n",
              "      <th>mean compactness</th>\n",
              "      <th>mean concavity</th>\n",
              "      <th>mean concave points</th>\n",
              "      <th>mean symmetry</th>\n",
              "      <th>mean fractal dimension</th>\n",
              "      <th>...</th>\n",
              "      <th>worst texture</th>\n",
              "      <th>worst perimeter</th>\n",
              "      <th>worst area</th>\n",
              "      <th>worst smoothness</th>\n",
              "      <th>worst compactness</th>\n",
              "      <th>worst concavity</th>\n",
              "      <th>worst concave points</th>\n",
              "      <th>worst symmetry</th>\n",
              "      <th>worst fractal dimension</th>\n",
              "      <th>class</th>\n",
              "    </tr>\n",
              "  </thead>\n",
              "  <tbody>\n",
              "    <tr>\n",
              "      <th>0</th>\n",
              "      <td>17.99</td>\n",
              "      <td>10.38</td>\n",
              "      <td>122.80</td>\n",
              "      <td>1001.0</td>\n",
              "      <td>0.11840</td>\n",
              "      <td>0.27760</td>\n",
              "      <td>0.3001</td>\n",
              "      <td>0.14710</td>\n",
              "      <td>0.2419</td>\n",
              "      <td>0.07871</td>\n",
              "      <td>...</td>\n",
              "      <td>17.33</td>\n",
              "      <td>184.60</td>\n",
              "      <td>2019.0</td>\n",
              "      <td>0.1622</td>\n",
              "      <td>0.6656</td>\n",
              "      <td>0.7119</td>\n",
              "      <td>0.2654</td>\n",
              "      <td>0.4601</td>\n",
              "      <td>0.11890</td>\n",
              "      <td>0</td>\n",
              "    </tr>\n",
              "    <tr>\n",
              "      <th>1</th>\n",
              "      <td>20.57</td>\n",
              "      <td>17.77</td>\n",
              "      <td>132.90</td>\n",
              "      <td>1326.0</td>\n",
              "      <td>0.08474</td>\n",
              "      <td>0.07864</td>\n",
              "      <td>0.0869</td>\n",
              "      <td>0.07017</td>\n",
              "      <td>0.1812</td>\n",
              "      <td>0.05667</td>\n",
              "      <td>...</td>\n",
              "      <td>23.41</td>\n",
              "      <td>158.80</td>\n",
              "      <td>1956.0</td>\n",
              "      <td>0.1238</td>\n",
              "      <td>0.1866</td>\n",
              "      <td>0.2416</td>\n",
              "      <td>0.1860</td>\n",
              "      <td>0.2750</td>\n",
              "      <td>0.08902</td>\n",
              "      <td>0</td>\n",
              "    </tr>\n",
              "    <tr>\n",
              "      <th>2</th>\n",
              "      <td>19.69</td>\n",
              "      <td>21.25</td>\n",
              "      <td>130.00</td>\n",
              "      <td>1203.0</td>\n",
              "      <td>0.10960</td>\n",
              "      <td>0.15990</td>\n",
              "      <td>0.1974</td>\n",
              "      <td>0.12790</td>\n",
              "      <td>0.2069</td>\n",
              "      <td>0.05999</td>\n",
              "      <td>...</td>\n",
              "      <td>25.53</td>\n",
              "      <td>152.50</td>\n",
              "      <td>1709.0</td>\n",
              "      <td>0.1444</td>\n",
              "      <td>0.4245</td>\n",
              "      <td>0.4504</td>\n",
              "      <td>0.2430</td>\n",
              "      <td>0.3613</td>\n",
              "      <td>0.08758</td>\n",
              "      <td>0</td>\n",
              "    </tr>\n",
              "    <tr>\n",
              "      <th>3</th>\n",
              "      <td>11.42</td>\n",
              "      <td>20.38</td>\n",
              "      <td>77.58</td>\n",
              "      <td>386.1</td>\n",
              "      <td>0.14250</td>\n",
              "      <td>0.28390</td>\n",
              "      <td>0.2414</td>\n",
              "      <td>0.10520</td>\n",
              "      <td>0.2597</td>\n",
              "      <td>0.09744</td>\n",
              "      <td>...</td>\n",
              "      <td>26.50</td>\n",
              "      <td>98.87</td>\n",
              "      <td>567.7</td>\n",
              "      <td>0.2098</td>\n",
              "      <td>0.8663</td>\n",
              "      <td>0.6869</td>\n",
              "      <td>0.2575</td>\n",
              "      <td>0.6638</td>\n",
              "      <td>0.17300</td>\n",
              "      <td>0</td>\n",
              "    </tr>\n",
              "    <tr>\n",
              "      <th>4</th>\n",
              "      <td>20.29</td>\n",
              "      <td>14.34</td>\n",
              "      <td>135.10</td>\n",
              "      <td>1297.0</td>\n",
              "      <td>0.10030</td>\n",
              "      <td>0.13280</td>\n",
              "      <td>0.1980</td>\n",
              "      <td>0.10430</td>\n",
              "      <td>0.1809</td>\n",
              "      <td>0.05883</td>\n",
              "      <td>...</td>\n",
              "      <td>16.67</td>\n",
              "      <td>152.20</td>\n",
              "      <td>1575.0</td>\n",
              "      <td>0.1374</td>\n",
              "      <td>0.2050</td>\n",
              "      <td>0.4000</td>\n",
              "      <td>0.1625</td>\n",
              "      <td>0.2364</td>\n",
              "      <td>0.07678</td>\n",
              "      <td>0</td>\n",
              "    </tr>\n",
              "  </tbody>\n",
              "</table>\n",
              "<p>5 rows × 31 columns</p>\n",
              "</div>"
            ],
            "text/plain": [
              "   mean radius  mean texture  mean perimeter  mean area  mean smoothness  \\\n",
              "0        17.99         10.38          122.80     1001.0          0.11840   \n",
              "1        20.57         17.77          132.90     1326.0          0.08474   \n",
              "2        19.69         21.25          130.00     1203.0          0.10960   \n",
              "3        11.42         20.38           77.58      386.1          0.14250   \n",
              "4        20.29         14.34          135.10     1297.0          0.10030   \n",
              "\n",
              "   mean compactness  mean concavity  mean concave points  mean symmetry  \\\n",
              "0           0.27760          0.3001              0.14710         0.2419   \n",
              "1           0.07864          0.0869              0.07017         0.1812   \n",
              "2           0.15990          0.1974              0.12790         0.2069   \n",
              "3           0.28390          0.2414              0.10520         0.2597   \n",
              "4           0.13280          0.1980              0.10430         0.1809   \n",
              "\n",
              "   mean fractal dimension  ...    worst texture  worst perimeter  worst area  \\\n",
              "0                 0.07871  ...            17.33           184.60      2019.0   \n",
              "1                 0.05667  ...            23.41           158.80      1956.0   \n",
              "2                 0.05999  ...            25.53           152.50      1709.0   \n",
              "3                 0.09744  ...            26.50            98.87       567.7   \n",
              "4                 0.05883  ...            16.67           152.20      1575.0   \n",
              "\n",
              "   worst smoothness  worst compactness  worst concavity  worst concave points  \\\n",
              "0            0.1622             0.6656           0.7119                0.2654   \n",
              "1            0.1238             0.1866           0.2416                0.1860   \n",
              "2            0.1444             0.4245           0.4504                0.2430   \n",
              "3            0.2098             0.8663           0.6869                0.2575   \n",
              "4            0.1374             0.2050           0.4000                0.1625   \n",
              "\n",
              "   worst symmetry  worst fractal dimension  class  \n",
              "0          0.4601                  0.11890      0  \n",
              "1          0.2750                  0.08902      0  \n",
              "2          0.3613                  0.08758      0  \n",
              "3          0.6638                  0.17300      0  \n",
              "4          0.2364                  0.07678      0  \n",
              "\n",
              "[5 rows x 31 columns]"
            ]
          },
          "metadata": {
            "tags": []
          },
          "execution_count": 9
        }
      ]
    },
    {
      "metadata": {
        "colab_type": "code",
        "id": "FV7of9G6QhRB",
        "outputId": "75cad49f-234e-47c5-d822-243f72db6cfd",
        "colab": {
          "base_uri": "https://localhost:8080/",
          "height": 380
        }
      },
      "cell_type": "code",
      "source": [
        "data.describe()"
      ],
      "execution_count": 10,
      "outputs": [
        {
          "output_type": "execute_result",
          "data": {
            "text/html": [
              "<div>\n",
              "<style scoped>\n",
              "    .dataframe tbody tr th:only-of-type {\n",
              "        vertical-align: middle;\n",
              "    }\n",
              "\n",
              "    .dataframe tbody tr th {\n",
              "        vertical-align: top;\n",
              "    }\n",
              "\n",
              "    .dataframe thead th {\n",
              "        text-align: right;\n",
              "    }\n",
              "</style>\n",
              "<table border=\"1\" class=\"dataframe\">\n",
              "  <thead>\n",
              "    <tr style=\"text-align: right;\">\n",
              "      <th></th>\n",
              "      <th>mean radius</th>\n",
              "      <th>mean texture</th>\n",
              "      <th>mean perimeter</th>\n",
              "      <th>mean area</th>\n",
              "      <th>mean smoothness</th>\n",
              "      <th>mean compactness</th>\n",
              "      <th>mean concavity</th>\n",
              "      <th>mean concave points</th>\n",
              "      <th>mean symmetry</th>\n",
              "      <th>mean fractal dimension</th>\n",
              "      <th>...</th>\n",
              "      <th>worst texture</th>\n",
              "      <th>worst perimeter</th>\n",
              "      <th>worst area</th>\n",
              "      <th>worst smoothness</th>\n",
              "      <th>worst compactness</th>\n",
              "      <th>worst concavity</th>\n",
              "      <th>worst concave points</th>\n",
              "      <th>worst symmetry</th>\n",
              "      <th>worst fractal dimension</th>\n",
              "      <th>class</th>\n",
              "    </tr>\n",
              "  </thead>\n",
              "  <tbody>\n",
              "    <tr>\n",
              "      <th>count</th>\n",
              "      <td>569.000000</td>\n",
              "      <td>569.000000</td>\n",
              "      <td>569.000000</td>\n",
              "      <td>569.000000</td>\n",
              "      <td>569.000000</td>\n",
              "      <td>569.000000</td>\n",
              "      <td>569.000000</td>\n",
              "      <td>569.000000</td>\n",
              "      <td>569.000000</td>\n",
              "      <td>569.000000</td>\n",
              "      <td>...</td>\n",
              "      <td>569.000000</td>\n",
              "      <td>569.000000</td>\n",
              "      <td>569.000000</td>\n",
              "      <td>569.000000</td>\n",
              "      <td>569.000000</td>\n",
              "      <td>569.000000</td>\n",
              "      <td>569.000000</td>\n",
              "      <td>569.000000</td>\n",
              "      <td>569.000000</td>\n",
              "      <td>569.000000</td>\n",
              "    </tr>\n",
              "    <tr>\n",
              "      <th>mean</th>\n",
              "      <td>14.127292</td>\n",
              "      <td>19.289649</td>\n",
              "      <td>91.969033</td>\n",
              "      <td>654.889104</td>\n",
              "      <td>0.096360</td>\n",
              "      <td>0.104341</td>\n",
              "      <td>0.088799</td>\n",
              "      <td>0.048919</td>\n",
              "      <td>0.181162</td>\n",
              "      <td>0.062798</td>\n",
              "      <td>...</td>\n",
              "      <td>25.677223</td>\n",
              "      <td>107.261213</td>\n",
              "      <td>880.583128</td>\n",
              "      <td>0.132369</td>\n",
              "      <td>0.254265</td>\n",
              "      <td>0.272188</td>\n",
              "      <td>0.114606</td>\n",
              "      <td>0.290076</td>\n",
              "      <td>0.083946</td>\n",
              "      <td>0.627417</td>\n",
              "    </tr>\n",
              "    <tr>\n",
              "      <th>std</th>\n",
              "      <td>3.524049</td>\n",
              "      <td>4.301036</td>\n",
              "      <td>24.298981</td>\n",
              "      <td>351.914129</td>\n",
              "      <td>0.014064</td>\n",
              "      <td>0.052813</td>\n",
              "      <td>0.079720</td>\n",
              "      <td>0.038803</td>\n",
              "      <td>0.027414</td>\n",
              "      <td>0.007060</td>\n",
              "      <td>...</td>\n",
              "      <td>6.146258</td>\n",
              "      <td>33.602542</td>\n",
              "      <td>569.356993</td>\n",
              "      <td>0.022832</td>\n",
              "      <td>0.157336</td>\n",
              "      <td>0.208624</td>\n",
              "      <td>0.065732</td>\n",
              "      <td>0.061867</td>\n",
              "      <td>0.018061</td>\n",
              "      <td>0.483918</td>\n",
              "    </tr>\n",
              "    <tr>\n",
              "      <th>min</th>\n",
              "      <td>6.981000</td>\n",
              "      <td>9.710000</td>\n",
              "      <td>43.790000</td>\n",
              "      <td>143.500000</td>\n",
              "      <td>0.052630</td>\n",
              "      <td>0.019380</td>\n",
              "      <td>0.000000</td>\n",
              "      <td>0.000000</td>\n",
              "      <td>0.106000</td>\n",
              "      <td>0.049960</td>\n",
              "      <td>...</td>\n",
              "      <td>12.020000</td>\n",
              "      <td>50.410000</td>\n",
              "      <td>185.200000</td>\n",
              "      <td>0.071170</td>\n",
              "      <td>0.027290</td>\n",
              "      <td>0.000000</td>\n",
              "      <td>0.000000</td>\n",
              "      <td>0.156500</td>\n",
              "      <td>0.055040</td>\n",
              "      <td>0.000000</td>\n",
              "    </tr>\n",
              "    <tr>\n",
              "      <th>25%</th>\n",
              "      <td>11.700000</td>\n",
              "      <td>16.170000</td>\n",
              "      <td>75.170000</td>\n",
              "      <td>420.300000</td>\n",
              "      <td>0.086370</td>\n",
              "      <td>0.064920</td>\n",
              "      <td>0.029560</td>\n",
              "      <td>0.020310</td>\n",
              "      <td>0.161900</td>\n",
              "      <td>0.057700</td>\n",
              "      <td>...</td>\n",
              "      <td>21.080000</td>\n",
              "      <td>84.110000</td>\n",
              "      <td>515.300000</td>\n",
              "      <td>0.116600</td>\n",
              "      <td>0.147200</td>\n",
              "      <td>0.114500</td>\n",
              "      <td>0.064930</td>\n",
              "      <td>0.250400</td>\n",
              "      <td>0.071460</td>\n",
              "      <td>0.000000</td>\n",
              "    </tr>\n",
              "    <tr>\n",
              "      <th>50%</th>\n",
              "      <td>13.370000</td>\n",
              "      <td>18.840000</td>\n",
              "      <td>86.240000</td>\n",
              "      <td>551.100000</td>\n",
              "      <td>0.095870</td>\n",
              "      <td>0.092630</td>\n",
              "      <td>0.061540</td>\n",
              "      <td>0.033500</td>\n",
              "      <td>0.179200</td>\n",
              "      <td>0.061540</td>\n",
              "      <td>...</td>\n",
              "      <td>25.410000</td>\n",
              "      <td>97.660000</td>\n",
              "      <td>686.500000</td>\n",
              "      <td>0.131300</td>\n",
              "      <td>0.211900</td>\n",
              "      <td>0.226700</td>\n",
              "      <td>0.099930</td>\n",
              "      <td>0.282200</td>\n",
              "      <td>0.080040</td>\n",
              "      <td>1.000000</td>\n",
              "    </tr>\n",
              "    <tr>\n",
              "      <th>75%</th>\n",
              "      <td>15.780000</td>\n",
              "      <td>21.800000</td>\n",
              "      <td>104.100000</td>\n",
              "      <td>782.700000</td>\n",
              "      <td>0.105300</td>\n",
              "      <td>0.130400</td>\n",
              "      <td>0.130700</td>\n",
              "      <td>0.074000</td>\n",
              "      <td>0.195700</td>\n",
              "      <td>0.066120</td>\n",
              "      <td>...</td>\n",
              "      <td>29.720000</td>\n",
              "      <td>125.400000</td>\n",
              "      <td>1084.000000</td>\n",
              "      <td>0.146000</td>\n",
              "      <td>0.339100</td>\n",
              "      <td>0.382900</td>\n",
              "      <td>0.161400</td>\n",
              "      <td>0.317900</td>\n",
              "      <td>0.092080</td>\n",
              "      <td>1.000000</td>\n",
              "    </tr>\n",
              "    <tr>\n",
              "      <th>max</th>\n",
              "      <td>28.110000</td>\n",
              "      <td>39.280000</td>\n",
              "      <td>188.500000</td>\n",
              "      <td>2501.000000</td>\n",
              "      <td>0.163400</td>\n",
              "      <td>0.345400</td>\n",
              "      <td>0.426800</td>\n",
              "      <td>0.201200</td>\n",
              "      <td>0.304000</td>\n",
              "      <td>0.097440</td>\n",
              "      <td>...</td>\n",
              "      <td>49.540000</td>\n",
              "      <td>251.200000</td>\n",
              "      <td>4254.000000</td>\n",
              "      <td>0.222600</td>\n",
              "      <td>1.058000</td>\n",
              "      <td>1.252000</td>\n",
              "      <td>0.291000</td>\n",
              "      <td>0.663800</td>\n",
              "      <td>0.207500</td>\n",
              "      <td>1.000000</td>\n",
              "    </tr>\n",
              "  </tbody>\n",
              "</table>\n",
              "<p>8 rows × 31 columns</p>\n",
              "</div>"
            ],
            "text/plain": [
              "       mean radius  mean texture  mean perimeter    mean area  \\\n",
              "count   569.000000    569.000000      569.000000   569.000000   \n",
              "mean     14.127292     19.289649       91.969033   654.889104   \n",
              "std       3.524049      4.301036       24.298981   351.914129   \n",
              "min       6.981000      9.710000       43.790000   143.500000   \n",
              "25%      11.700000     16.170000       75.170000   420.300000   \n",
              "50%      13.370000     18.840000       86.240000   551.100000   \n",
              "75%      15.780000     21.800000      104.100000   782.700000   \n",
              "max      28.110000     39.280000      188.500000  2501.000000   \n",
              "\n",
              "       mean smoothness  mean compactness  mean concavity  mean concave points  \\\n",
              "count       569.000000        569.000000      569.000000           569.000000   \n",
              "mean          0.096360          0.104341        0.088799             0.048919   \n",
              "std           0.014064          0.052813        0.079720             0.038803   \n",
              "min           0.052630          0.019380        0.000000             0.000000   \n",
              "25%           0.086370          0.064920        0.029560             0.020310   \n",
              "50%           0.095870          0.092630        0.061540             0.033500   \n",
              "75%           0.105300          0.130400        0.130700             0.074000   \n",
              "max           0.163400          0.345400        0.426800             0.201200   \n",
              "\n",
              "       mean symmetry  mean fractal dimension     ...      worst texture  \\\n",
              "count     569.000000              569.000000     ...         569.000000   \n",
              "mean        0.181162                0.062798     ...          25.677223   \n",
              "std         0.027414                0.007060     ...           6.146258   \n",
              "min         0.106000                0.049960     ...          12.020000   \n",
              "25%         0.161900                0.057700     ...          21.080000   \n",
              "50%         0.179200                0.061540     ...          25.410000   \n",
              "75%         0.195700                0.066120     ...          29.720000   \n",
              "max         0.304000                0.097440     ...          49.540000   \n",
              "\n",
              "       worst perimeter   worst area  worst smoothness  worst compactness  \\\n",
              "count       569.000000   569.000000        569.000000         569.000000   \n",
              "mean        107.261213   880.583128          0.132369           0.254265   \n",
              "std          33.602542   569.356993          0.022832           0.157336   \n",
              "min          50.410000   185.200000          0.071170           0.027290   \n",
              "25%          84.110000   515.300000          0.116600           0.147200   \n",
              "50%          97.660000   686.500000          0.131300           0.211900   \n",
              "75%         125.400000  1084.000000          0.146000           0.339100   \n",
              "max         251.200000  4254.000000          0.222600           1.058000   \n",
              "\n",
              "       worst concavity  worst concave points  worst symmetry  \\\n",
              "count       569.000000            569.000000      569.000000   \n",
              "mean          0.272188              0.114606        0.290076   \n",
              "std           0.208624              0.065732        0.061867   \n",
              "min           0.000000              0.000000        0.156500   \n",
              "25%           0.114500              0.064930        0.250400   \n",
              "50%           0.226700              0.099930        0.282200   \n",
              "75%           0.382900              0.161400        0.317900   \n",
              "max           1.252000              0.291000        0.663800   \n",
              "\n",
              "       worst fractal dimension       class  \n",
              "count               569.000000  569.000000  \n",
              "mean                  0.083946    0.627417  \n",
              "std                   0.018061    0.483918  \n",
              "min                   0.055040    0.000000  \n",
              "25%                   0.071460    0.000000  \n",
              "50%                   0.080040    1.000000  \n",
              "75%                   0.092080    1.000000  \n",
              "max                   0.207500    1.000000  \n",
              "\n",
              "[8 rows x 31 columns]"
            ]
          },
          "metadata": {
            "tags": []
          },
          "execution_count": 10
        }
      ]
    },
    {
      "metadata": {
        "colab_type": "code",
        "id": "w-jZOBG6QqyG",
        "outputId": "42098111-2b03-4f4c-80da-0ba588f6c8b5",
        "colab": {
          "base_uri": "https://localhost:8080/",
          "height": 68
        }
      },
      "cell_type": "code",
      "source": [
        "print(data['class'].value_counts())"
      ],
      "execution_count": 11,
      "outputs": [
        {
          "output_type": "stream",
          "text": [
            "1    357\n",
            "0    212\n",
            "Name: class, dtype: int64\n"
          ],
          "name": "stdout"
        }
      ]
    },
    {
      "metadata": {
        "colab_type": "code",
        "id": "0bhbds5iQz7p",
        "outputId": "c11c6ed9-c2b8-47cc-f8ce-c65438d18360",
        "colab": {
          "base_uri": "https://localhost:8080/",
          "height": 34
        }
      },
      "cell_type": "code",
      "source": [
        "print(breast_cancer.target_names)"
      ],
      "execution_count": 12,
      "outputs": [
        {
          "output_type": "stream",
          "text": [
            "['malignant' 'benign']\n"
          ],
          "name": "stdout"
        }
      ]
    },
    {
      "metadata": {
        "colab_type": "code",
        "id": "Nvgmi3LeQ47D",
        "outputId": "c99ea7fc-dc36-4aee-d665-1585cca32dbd",
        "colab": {
          "base_uri": "https://localhost:8080/",
          "height": 225
        }
      },
      "cell_type": "code",
      "source": [
        "data.groupby('class').mean()"
      ],
      "execution_count": 13,
      "outputs": [
        {
          "output_type": "execute_result",
          "data": {
            "text/html": [
              "<div>\n",
              "<style scoped>\n",
              "    .dataframe tbody tr th:only-of-type {\n",
              "        vertical-align: middle;\n",
              "    }\n",
              "\n",
              "    .dataframe tbody tr th {\n",
              "        vertical-align: top;\n",
              "    }\n",
              "\n",
              "    .dataframe thead th {\n",
              "        text-align: right;\n",
              "    }\n",
              "</style>\n",
              "<table border=\"1\" class=\"dataframe\">\n",
              "  <thead>\n",
              "    <tr style=\"text-align: right;\">\n",
              "      <th></th>\n",
              "      <th>mean radius</th>\n",
              "      <th>mean texture</th>\n",
              "      <th>mean perimeter</th>\n",
              "      <th>mean area</th>\n",
              "      <th>mean smoothness</th>\n",
              "      <th>mean compactness</th>\n",
              "      <th>mean concavity</th>\n",
              "      <th>mean concave points</th>\n",
              "      <th>mean symmetry</th>\n",
              "      <th>mean fractal dimension</th>\n",
              "      <th>...</th>\n",
              "      <th>worst radius</th>\n",
              "      <th>worst texture</th>\n",
              "      <th>worst perimeter</th>\n",
              "      <th>worst area</th>\n",
              "      <th>worst smoothness</th>\n",
              "      <th>worst compactness</th>\n",
              "      <th>worst concavity</th>\n",
              "      <th>worst concave points</th>\n",
              "      <th>worst symmetry</th>\n",
              "      <th>worst fractal dimension</th>\n",
              "    </tr>\n",
              "    <tr>\n",
              "      <th>class</th>\n",
              "      <th></th>\n",
              "      <th></th>\n",
              "      <th></th>\n",
              "      <th></th>\n",
              "      <th></th>\n",
              "      <th></th>\n",
              "      <th></th>\n",
              "      <th></th>\n",
              "      <th></th>\n",
              "      <th></th>\n",
              "      <th></th>\n",
              "      <th></th>\n",
              "      <th></th>\n",
              "      <th></th>\n",
              "      <th></th>\n",
              "      <th></th>\n",
              "      <th></th>\n",
              "      <th></th>\n",
              "      <th></th>\n",
              "      <th></th>\n",
              "      <th></th>\n",
              "    </tr>\n",
              "  </thead>\n",
              "  <tbody>\n",
              "    <tr>\n",
              "      <th>0</th>\n",
              "      <td>17.462830</td>\n",
              "      <td>21.604906</td>\n",
              "      <td>115.365377</td>\n",
              "      <td>978.376415</td>\n",
              "      <td>0.102898</td>\n",
              "      <td>0.145188</td>\n",
              "      <td>0.160775</td>\n",
              "      <td>0.087990</td>\n",
              "      <td>0.192909</td>\n",
              "      <td>0.062680</td>\n",
              "      <td>...</td>\n",
              "      <td>21.134811</td>\n",
              "      <td>29.318208</td>\n",
              "      <td>141.370330</td>\n",
              "      <td>1422.286321</td>\n",
              "      <td>0.144845</td>\n",
              "      <td>0.374824</td>\n",
              "      <td>0.450606</td>\n",
              "      <td>0.182237</td>\n",
              "      <td>0.323468</td>\n",
              "      <td>0.091530</td>\n",
              "    </tr>\n",
              "    <tr>\n",
              "      <th>1</th>\n",
              "      <td>12.146524</td>\n",
              "      <td>17.914762</td>\n",
              "      <td>78.075406</td>\n",
              "      <td>462.790196</td>\n",
              "      <td>0.092478</td>\n",
              "      <td>0.080085</td>\n",
              "      <td>0.046058</td>\n",
              "      <td>0.025717</td>\n",
              "      <td>0.174186</td>\n",
              "      <td>0.062867</td>\n",
              "      <td>...</td>\n",
              "      <td>13.379801</td>\n",
              "      <td>23.515070</td>\n",
              "      <td>87.005938</td>\n",
              "      <td>558.899440</td>\n",
              "      <td>0.124959</td>\n",
              "      <td>0.182673</td>\n",
              "      <td>0.166238</td>\n",
              "      <td>0.074444</td>\n",
              "      <td>0.270246</td>\n",
              "      <td>0.079442</td>\n",
              "    </tr>\n",
              "  </tbody>\n",
              "</table>\n",
              "<p>2 rows × 30 columns</p>\n",
              "</div>"
            ],
            "text/plain": [
              "       mean radius  mean texture  mean perimeter   mean area  mean smoothness  \\\n",
              "class                                                                           \n",
              "0        17.462830     21.604906      115.365377  978.376415         0.102898   \n",
              "1        12.146524     17.914762       78.075406  462.790196         0.092478   \n",
              "\n",
              "       mean compactness  mean concavity  mean concave points  mean symmetry  \\\n",
              "class                                                                         \n",
              "0              0.145188        0.160775             0.087990       0.192909   \n",
              "1              0.080085        0.046058             0.025717       0.174186   \n",
              "\n",
              "       mean fractal dimension           ...             worst radius  \\\n",
              "class                                   ...                            \n",
              "0                    0.062680           ...                21.134811   \n",
              "1                    0.062867           ...                13.379801   \n",
              "\n",
              "       worst texture  worst perimeter   worst area  worst smoothness  \\\n",
              "class                                                                  \n",
              "0          29.318208       141.370330  1422.286321          0.144845   \n",
              "1          23.515070        87.005938   558.899440          0.124959   \n",
              "\n",
              "       worst compactness  worst concavity  worst concave points  \\\n",
              "class                                                             \n",
              "0               0.374824         0.450606              0.182237   \n",
              "1               0.182673         0.166238              0.074444   \n",
              "\n",
              "       worst symmetry  worst fractal dimension  \n",
              "class                                           \n",
              "0            0.323468                 0.091530  \n",
              "1            0.270246                 0.079442  \n",
              "\n",
              "[2 rows x 30 columns]"
            ]
          },
          "metadata": {
            "tags": []
          },
          "execution_count": 13
        }
      ]
    },
    {
      "metadata": {
        "colab_type": "text",
        "id": "TQOa8tuKWmEx"
      },
      "cell_type": "markdown",
      "source": [
        "# Train test split"
      ]
    },
    {
      "metadata": {
        "colab_type": "code",
        "id": "7OOt-sSaWnVZ",
        "colab": {}
      },
      "cell_type": "code",
      "source": [
        "from sklearn.model_selection import train_test_split"
      ],
      "execution_count": 0,
      "outputs": []
    },
    {
      "metadata": {
        "colab_type": "code",
        "id": "b4MW2HlzXLQe",
        "colab": {}
      },
      "cell_type": "code",
      "source": [
        "X = data.drop('class', axis=1)\n",
        "Y = data['class']"
      ],
      "execution_count": 0,
      "outputs": []
    },
    {
      "metadata": {
        "colab_type": "code",
        "id": "gDrEsZiMXXEs",
        "outputId": "92dec319-f4af-4fca-9de7-46cb857f3f52",
        "colab": {
          "base_uri": "https://localhost:8080/",
          "height": 34
        }
      },
      "cell_type": "code",
      "source": [
        "type(X)"
      ],
      "execution_count": 16,
      "outputs": [
        {
          "output_type": "execute_result",
          "data": {
            "text/plain": [
              "pandas.core.frame.DataFrame"
            ]
          },
          "metadata": {
            "tags": []
          },
          "execution_count": 16
        }
      ]
    },
    {
      "metadata": {
        "colab_type": "code",
        "id": "rLY0MMINXXyl",
        "colab": {}
      },
      "cell_type": "code",
      "source": [
        "X_train, X_test, Y_train, Y_test = train_test_split(X, Y)"
      ],
      "execution_count": 0,
      "outputs": []
    },
    {
      "metadata": {
        "colab_type": "code",
        "id": "K3mRpxH2XfNC",
        "outputId": "28a4f766-d30c-4ac6-b11d-44ba3bb2c48f",
        "colab": {
          "base_uri": "https://localhost:8080/",
          "height": 34
        }
      },
      "cell_type": "code",
      "source": [
        "print(Y.shape, Y_train.shape, Y_test.shape)"
      ],
      "execution_count": 18,
      "outputs": [
        {
          "output_type": "stream",
          "text": [
            "(569,) (426,) (143,)\n"
          ],
          "name": "stdout"
        }
      ]
    },
    {
      "metadata": {
        "colab_type": "code",
        "id": "IaVrRpmTXiso",
        "colab": {}
      },
      "cell_type": "code",
      "source": [
        "X_train, X_test, Y_train, Y_test = train_test_split(X, Y, test_size=0.1)"
      ],
      "execution_count": 0,
      "outputs": []
    },
    {
      "metadata": {
        "colab_type": "code",
        "id": "f4Obcq42XwSF",
        "outputId": "87772e67-bd6b-4c8a-b250-a32bf2e63074",
        "colab": {
          "base_uri": "https://localhost:8080/",
          "height": 34
        }
      },
      "cell_type": "code",
      "source": [
        "print(Y.mean(), Y_train.mean(), Y_test.mean())"
      ],
      "execution_count": 20,
      "outputs": [
        {
          "output_type": "stream",
          "text": [
            "0.6274165202108963 0.630859375 0.5964912280701754\n"
          ],
          "name": "stdout"
        }
      ]
    },
    {
      "metadata": {
        "colab_type": "code",
        "id": "aCzE4vW1X9DI",
        "colab": {}
      },
      "cell_type": "code",
      "source": [
        "X_train, X_test, Y_train, Y_test = train_test_split(X, Y, test_size=0.1, stratify = Y)"
      ],
      "execution_count": 0,
      "outputs": []
    },
    {
      "metadata": {
        "colab_type": "code",
        "id": "G6S8TEOKYMAp",
        "outputId": "7db9065b-0dbc-49ee-f4ea-874a545685cd",
        "colab": {
          "base_uri": "https://localhost:8080/",
          "height": 1564
        }
      },
      "cell_type": "code",
      "source": [
        "print(X_train.mean(), X_test.mean(), X.mean())"
      ],
      "execution_count": 22,
      "outputs": [
        {
          "output_type": "stream",
          "text": [
            "mean radius                 14.155652\n",
            "mean texture                19.339355\n",
            "mean perimeter              92.110723\n",
            "mean area                  657.558594\n",
            "mean smoothness              0.096143\n",
            "mean compactness             0.103189\n",
            "mean concavity               0.087459\n",
            "mean concave points          0.048649\n",
            "mean symmetry                0.180573\n",
            "mean fractal dimension       0.062580\n",
            "radius error                 0.407002\n",
            "texture error                1.216239\n",
            "perimeter error              2.866969\n",
            "area error                  40.675660\n",
            "smoothness error             0.006951\n",
            "compactness error            0.024801\n",
            "concavity error              0.031052\n",
            "concave points error         0.011701\n",
            "symmetry error               0.020337\n",
            "fractal dimension error      0.003705\n",
            "worst radius                16.318504\n",
            "worst texture               25.776328\n",
            "worst perimeter            107.520371\n",
            "worst area                 885.845898\n",
            "worst smoothness             0.131993\n",
            "worst compactness            0.251632\n",
            "worst concavity              0.268565\n",
            "worst concave points         0.114269\n",
            "worst symmetry               0.289453\n",
            "worst fractal dimension      0.083549\n",
            "dtype: float64 mean radius                 13.872544\n",
            "mean texture                18.843158\n",
            "mean perimeter              90.696316\n",
            "mean area                  630.910526\n",
            "mean smoothness              0.098312\n",
            "mean compactness             0.114686\n",
            "mean concavity               0.100842\n",
            "mean concave points          0.051345\n",
            "mean symmetry                0.186449\n",
            "mean fractal dimension       0.064749\n",
            "radius error                 0.388733\n",
            "texture error                1.222374\n",
            "perimeter error              2.857884\n",
            "area error                  37.295789\n",
            "smoothness error             0.007850\n",
            "compactness error            0.031562\n",
            "concavity error              0.039453\n",
            "concave points error         0.012653\n",
            "symmetry error               0.022384\n",
            "fractal dimension error      0.004600\n",
            "worst radius                15.826228\n",
            "worst texture               24.787018\n",
            "worst perimeter            104.933333\n",
            "worst area                 833.310526\n",
            "worst smoothness             0.135738\n",
            "worst compactness            0.277919\n",
            "worst concavity              0.304733\n",
            "worst concave points         0.117635\n",
            "worst symmetry               0.295668\n",
            "worst fractal dimension      0.087510\n",
            "dtype: float64 mean radius                 14.127292\n",
            "mean texture                19.289649\n",
            "mean perimeter              91.969033\n",
            "mean area                  654.889104\n",
            "mean smoothness              0.096360\n",
            "mean compactness             0.104341\n",
            "mean concavity               0.088799\n",
            "mean concave points          0.048919\n",
            "mean symmetry                0.181162\n",
            "mean fractal dimension       0.062798\n",
            "radius error                 0.405172\n",
            "texture error                1.216853\n",
            "perimeter error              2.866059\n",
            "area error                  40.337079\n",
            "smoothness error             0.007041\n",
            "compactness error            0.025478\n",
            "concavity error              0.031894\n",
            "concave points error         0.011796\n",
            "symmetry error               0.020542\n",
            "fractal dimension error      0.003795\n",
            "worst radius                16.269190\n",
            "worst texture               25.677223\n",
            "worst perimeter            107.261213\n",
            "worst area                 880.583128\n",
            "worst smoothness             0.132369\n",
            "worst compactness            0.254265\n",
            "worst concavity              0.272188\n",
            "worst concave points         0.114606\n",
            "worst symmetry               0.290076\n",
            "worst fractal dimension      0.083946\n",
            "dtype: float64\n"
          ],
          "name": "stdout"
        }
      ]
    },
    {
      "metadata": {
        "colab_type": "code",
        "id": "-2a4ILm0YWTe",
        "colab": {}
      },
      "cell_type": "code",
      "source": [
        "X_train, X_test, Y_train, Y_test = train_test_split(X, Y, test_size=0.1, stratify = Y, random_state=1)"
      ],
      "execution_count": 0,
      "outputs": []
    },
    {
      "metadata": {
        "colab_type": "code",
        "id": "7KHMCeo6Y4sL",
        "outputId": "5b0a3506-e151-4c2c-ca62-961753cee57a",
        "colab": {
          "base_uri": "https://localhost:8080/",
          "height": 1564
        }
      },
      "cell_type": "code",
      "source": [
        "print(X_train.mean(), X_test.mean(), X.mean())"
      ],
      "execution_count": 24,
      "outputs": [
        {
          "output_type": "stream",
          "text": [
            "mean radius                 14.058656\n",
            "mean texture                19.309668\n",
            "mean perimeter              91.530488\n",
            "mean area                  648.097266\n",
            "mean smoothness              0.096568\n",
            "mean compactness             0.105144\n",
            "mean concavity               0.089342\n",
            "mean concave points          0.048892\n",
            "mean symmetry                0.181961\n",
            "mean fractal dimension       0.062979\n",
            "radius error                 0.403659\n",
            "texture error                1.206856\n",
            "perimeter error              2.861173\n",
            "area error                  39.935506\n",
            "smoothness error             0.007067\n",
            "compactness error            0.025681\n",
            "concavity error              0.032328\n",
            "concave points error         0.011963\n",
            "symmetry error               0.020584\n",
            "fractal dimension error      0.003815\n",
            "worst radius                16.194275\n",
            "worst texture               25.644902\n",
            "worst perimeter            106.757715\n",
            "worst area                 871.647852\n",
            "worst smoothness             0.132592\n",
            "worst compactness            0.257415\n",
            "worst concavity              0.275623\n",
            "worst concave points         0.115454\n",
            "worst symmetry               0.291562\n",
            "worst fractal dimension      0.084402\n",
            "dtype: float64 mean radius                 14.743807\n",
            "mean texture                19.109825\n",
            "mean perimeter              95.908246\n",
            "mean area                  715.896491\n",
            "mean smoothness              0.094496\n",
            "mean compactness             0.097130\n",
            "mean concavity               0.083923\n",
            "mean concave points          0.049159\n",
            "mean symmetry                0.173981\n",
            "mean fractal dimension       0.061169\n",
            "radius error                 0.418767\n",
            "texture error                1.306656\n",
            "perimeter error              2.909946\n",
            "area error                  43.944193\n",
            "smoothness error             0.006809\n",
            "compactness error            0.023659\n",
            "concavity error              0.027989\n",
            "concave points error         0.010293\n",
            "symmetry error               0.020169\n",
            "fractal dimension error      0.003618\n",
            "worst radius                16.942105\n",
            "worst texture               25.967544\n",
            "worst perimeter            111.783860\n",
            "worst area                 960.843860\n",
            "worst smoothness             0.130357\n",
            "worst compactness            0.225973\n",
            "worst concavity              0.241340\n",
            "worst concave points         0.106994\n",
            "worst symmetry               0.276719\n",
            "worst fractal dimension      0.079852\n",
            "dtype: float64 mean radius                 14.127292\n",
            "mean texture                19.289649\n",
            "mean perimeter              91.969033\n",
            "mean area                  654.889104\n",
            "mean smoothness              0.096360\n",
            "mean compactness             0.104341\n",
            "mean concavity               0.088799\n",
            "mean concave points          0.048919\n",
            "mean symmetry                0.181162\n",
            "mean fractal dimension       0.062798\n",
            "radius error                 0.405172\n",
            "texture error                1.216853\n",
            "perimeter error              2.866059\n",
            "area error                  40.337079\n",
            "smoothness error             0.007041\n",
            "compactness error            0.025478\n",
            "concavity error              0.031894\n",
            "concave points error         0.011796\n",
            "symmetry error               0.020542\n",
            "fractal dimension error      0.003795\n",
            "worst radius                16.269190\n",
            "worst texture               25.677223\n",
            "worst perimeter            107.261213\n",
            "worst area                 880.583128\n",
            "worst smoothness             0.132369\n",
            "worst compactness            0.254265\n",
            "worst concavity              0.272188\n",
            "worst concave points         0.114606\n",
            "worst symmetry               0.290076\n",
            "worst fractal dimension      0.083946\n",
            "dtype: float64\n"
          ],
          "name": "stdout"
        }
      ]
    },
    {
      "metadata": {
        "colab_type": "text",
        "id": "fT9sC0UKb12E"
      },
      "cell_type": "markdown",
      "source": [
        "# Binarisation of input"
      ]
    },
    {
      "metadata": {
        "colab_type": "code",
        "id": "845LI9BPcuHG",
        "colab": {}
      },
      "cell_type": "code",
      "source": [
        "import matplotlib.pyplot as plt"
      ],
      "execution_count": 0,
      "outputs": []
    },
    {
      "metadata": {
        "colab_type": "code",
        "id": "72YS45uZdX0D",
        "outputId": "b4aa034b-d054-4624-b5b9-fcbdbe25ba9f",
        "colab": {
          "base_uri": "https://localhost:8080/",
          "height": 460
        }
      },
      "cell_type": "code",
      "source": [
        "plt.plot(X_test.T, '*')\n",
        "plt.xticks(rotation='vertical')\n",
        "plt.show()"
      ],
      "execution_count": 26,
      "outputs": [
        {
          "output_type": "display_data",
          "data": {
            "image/png": "[encoded data removed]",
            "text/plain": [
              "<Figure size 576x396 with 1 Axes>"
            ]
          },
          "metadata": {
            "tags": []
          }
        }
      ]
    },
    {
      "metadata": {
        "colab_type": "code",
        "id": "JXoaxoUzdZ-u",
        "colab": {}
      },
      "cell_type": "code",
      "source": [
        "X_binarised_3_train = X_train['mean area'].map(lambda x: 0 if x < 1000 else 1)"
      ],
      "execution_count": 0,
      "outputs": []
    },
    {
      "metadata": {
        "colab_type": "code",
        "id": "A7W6c9o8d3Qd",
        "outputId": "bca23469-0650-402e-c856-6f6bea7cad5c",
        "colab": {
          "base_uri": "https://localhost:8080/",
          "height": 384
        }
      },
      "cell_type": "code",
      "source": [
        "plt.plot(X_binarised_3_train, '*')"
      ],
      "execution_count": 28,
      "outputs": [
        {
          "output_type": "execute_result",
          "data": {
            "text/plain": [
              "[<matplotlib.lines.Line2D at 0x7f63484ca0f0>]"
            ]
          },
          "metadata": {
            "tags": []
          },
          "execution_count": 28
        },
        {
          "output_type": "display_data",
          "data": {
            "image/png": "[encoded data removed]",
            "text/plain": [
              "<Figure size 576x396 with 1 Axes>"
            ]
          },
          "metadata": {
            "tags": []
          }
        }
      ]
    },
    {
      "metadata": {
        "colab_type": "code",
        "id": "8a3Dh5Gnd8bG",
        "colab": {}
      },
      "cell_type": "code",
      "source": [
        "X_binarised_train = X_train.apply(pd.cut, bins=2, labels=[1,0])"
      ],
      "execution_count": 0,
      "outputs": []
    },
    {
      "metadata": {
        "colab_type": "code",
        "id": "KQY7ICWweNxt",
        "outputId": "00cd5b05-cd24-4bbe-f327-7ca30a568121",
        "colab": {
          "base_uri": "https://localhost:8080/",
          "height": 460
        }
      },
      "cell_type": "code",
      "source": [
        "plt.plot(X_binarised_train.T, '*')\n",
        "plt.xticks(rotation='vertical')\n",
        "plt.show()"
      ],
      "execution_count": 30,
      "outputs": [
        {
          "output_type": "display_data",
          "data": {
            "image/png": "[encoded data removed]",
            "text/plain": [
              "<Figure size 576x396 with 1 Axes>"
            ]
          },
          "metadata": {
            "tags": []
          }
        }
      ]
    },
    {
      "metadata": {
        "colab_type": "code",
        "id": "bGxvIRV9eRrh",
        "colab": {}
      },
      "cell_type": "code",
      "source": [
        "X_binarised_test = X_test.apply(pd.cut, bins=2, labels=[1,0])"
      ],
      "execution_count": 0,
      "outputs": []
    },
    {
      "metadata": {
        "colab_type": "code",
        "id": "gJsquRBFeZJS",
        "outputId": "e7a19d05-6eb7-4960-8a9c-7353d100b820",
        "colab": {
          "base_uri": "https://localhost:8080/",
          "height": 54
        }
      },
      "cell_type": "code",
      "source": [
        "type(X_binarised_test)"
      ],
      "execution_count": 32,
      "outputs": [
        {
          "output_type": "execute_result",
          "data": {
            "text/plain": [
              "pandas.core.frame.DataFrame"
            ]
          },
          "metadata": {
            "tags": []
          },
          "execution_count": 32
        }
      ]
    },
    {
      "metadata": {
        "colab_type": "code",
        "id": "sVBP3O2ueabj",
        "colab": {}
      },
      "cell_type": "code",
      "source": [
        "X_binarised_test = X_binarised_test.values\n",
        "X_binarised_train = X_binarised_train.values"
      ],
      "execution_count": 0,
      "outputs": []
    },
    {
      "metadata": {
        "colab_type": "code",
        "id": "8zfwovfzeiBm",
        "outputId": "ed533b85-eab8-42c4-b7de-eb25a7cc3388",
        "colab": {
          "base_uri": "https://localhost:8080/",
          "height": 54
        }
      },
      "cell_type": "code",
      "source": [
        "type(X_binarised_test)"
      ],
      "execution_count": 34,
      "outputs": [
        {
          "output_type": "execute_result",
          "data": {
            "text/plain": [
              "numpy.ndarray"
            ]
          },
          "metadata": {
            "tags": []
          },
          "execution_count": 34
        }
      ]
    },
    {
      "metadata": {
        "colab_type": "text",
        "id": "HsV1gX3Ge-WC"
      },
      "cell_type": "markdown",
      "source": [
        "# MP neuron model"
      ]
    },
    {
      "metadata": {
        "colab_type": "code",
        "id": "s5GH3kqQpULG",
        "colab": {}
      },
      "cell_type": "code",
      "source": [
        "from random import randint"
      ],
      "execution_count": 0,
      "outputs": []
    },
    {
      "metadata": {
        "colab_type": "code",
        "id": "JoOBEPiDoh5A",
        "outputId": "239063e4-35a1-4345-bef9-8144434fa6de",
        "colab": {
          "base_uri": "https://localhost:8080/",
          "height": 88
        }
      },
      "cell_type": "code",
      "source": [
        "b = 3\n",
        "\n",
        "i = randint(0, X_binarised_train.shape[0])\n",
        "\n",
        "print('For row', i)\n",
        "\n",
        "if (np.sum(X_binarised_train[100, :]) >= b):\n",
        "  print('MP Neuron inference is malignant')\n",
        "else:\n",
        "  print('MP Neuron inference is benign')\n",
        "  \n",
        "if (Y_train[i] == 1):\n",
        "  print('Ground truth is malignant')\n",
        "else:\n",
        "  print('Ground truth is benign')"
      ],
      "execution_count": 36,
      "outputs": [
        {
          "output_type": "stream",
          "text": [
            "For row 482\n",
            "MP Neuron inference is malignant\n",
            "Ground truth is malignant\n"
          ],
          "name": "stdout"
        }
      ]
    },
    {
      "metadata": {
        "colab_type": "code",
        "id": "oSWdQAVFpJB9",
        "outputId": "b4231cdd-359b-46e3-feaf-20655f986faf",
        "colab": {
          "base_uri": "https://localhost:8080/",
          "height": 54
        }
      },
      "cell_type": "code",
      "source": [
        "b = 3\n",
        "\n",
        "Y_pred_train = []\n",
        "accurate_rows = 0\n",
        "\n",
        "for x, y in zip(X_binarised_train, Y_train):\n",
        "  y_pred = (np.sum(x) >= b)\n",
        "  Y_pred_train.append(y_pred)\n",
        "  accurate_rows += (y == y_pred)\n",
        "  \n",
        "print(accurate_rows, accurate_rows/X_binarised_train.shape[0])\n",
        "  "
      ],
      "execution_count": 37,
      "outputs": [
        {
          "output_type": "stream",
          "text": [
            "321 0.626953125\n"
          ],
          "name": "stdout"
        }
      ]
    },
    {
      "metadata": {
        "colab_type": "code",
        "id": "wWdjFjC4qCmu",
        "outputId": "3b80220c-94ff-44d5-c35b-fac310d2e4cc",
        "colab": {
          "base_uri": "https://localhost:8080/",
          "height": 564
        }
      },
      "cell_type": "code",
      "source": [
        "for b in range(X_binarised_train.shape[1] + 1):\n",
        "  Y_pred_train = []\n",
        "  accurate_rows = 0\n",
        "\n",
        "  for x, y in zip(X_binarised_train, Y_train):\n",
        "    y_pred = (np.sum(x) >= b)\n",
        "    Y_pred_train.append(y_pred)\n",
        "    accurate_rows += (y == y_pred)\n",
        "\n",
        "  print(b, accurate_rows/X_binarised_train.shape[0])  "
      ],
      "execution_count": 38,
      "outputs": [
        {
          "output_type": "stream",
          "text": [
            "0 0.626953125\n",
            "1 0.626953125\n",
            "2 0.626953125\n",
            "3 0.626953125\n",
            "4 0.626953125\n",
            "5 0.626953125\n",
            "6 0.626953125\n",
            "7 0.626953125\n",
            "8 0.626953125\n",
            "9 0.626953125\n",
            "10 0.626953125\n",
            "11 0.626953125\n",
            "12 0.626953125\n",
            "13 0.626953125\n",
            "14 0.630859375\n",
            "15 0.6328125\n",
            "16 0.642578125\n",
            "17 0.6484375\n",
            "18 0.65625\n",
            "19 0.6640625\n",
            "20 0.671875\n",
            "21 0.6875\n",
            "22 0.701171875\n",
            "23 0.724609375\n",
            "24 0.755859375\n",
            "25 0.78515625\n",
            "26 0.818359375\n",
            "27 0.845703125\n",
            "28 0.849609375\n",
            "29 0.814453125\n",
            "30 0.759765625\n"
          ],
          "name": "stdout"
        }
      ]
    },
    {
      "metadata": {
        "colab_type": "code",
        "id": "_S7f6ypzuufw",
        "colab": {}
      },
      "cell_type": "code",
      "source": [
        "from sklearn.metrics import accuracy_score"
      ],
      "execution_count": 0,
      "outputs": []
    },
    {
      "metadata": {
        "colab_type": "code",
        "id": "sra9X-duuUVV",
        "outputId": "f9ad8920-fab4-4b54-84c5-5c28b34e6796",
        "colab": {
          "base_uri": "https://localhost:8080/",
          "height": 54
        }
      },
      "cell_type": "code",
      "source": [
        "b = 28\n",
        "\n",
        "Y_pred_test = []\n",
        "\n",
        "for x in X_binarised_test:\n",
        "  y_pred = (np.sum(x) >= b)\n",
        "  Y_pred_test.append(y_pred)\n",
        "\n",
        "accuracy = accuracy_score(Y_pred_test, Y_test)\n",
        "\n",
        "print(b, accuracy)  "
      ],
      "execution_count": 40,
      "outputs": [
        {
          "output_type": "stream",
          "text": [
            "28 0.7894736842105263\n"
          ],
          "name": "stdout"
        }
      ]
    },
    {
      "metadata": {
        "colab_type": "text",
        "id": "nNPjMZiwvwp6"
      },
      "cell_type": "markdown",
      "source": [
        "# MP Neuron Class"
      ]
    },
    {
      "metadata": {
        "colab_type": "code",
        "id": "nmqsH4TKu6YA",
        "colab": {}
      },
      "cell_type": "code",
      "source": [
        "class MPNeuron:\n",
        "  \n",
        "  def __init__(self):\n",
        "    self.b = None\n",
        "    \n",
        "  def model(self, x):\n",
        "    return(sum(x) >= self.b)\n",
        "  \n",
        "  def predict(self, X):\n",
        "    Y = []\n",
        "    for x in X:\n",
        "      result = self.model(x)\n",
        "      Y.append(result)\n",
        "    return np.array(Y)\n",
        "  \n",
        "  def fit(self, X, Y):\n",
        "    accuracy = {}\n",
        "    \n",
        "    for b in range(X.shape[1] + 1):\n",
        "      self.b = b\n",
        "      Y_pred = self.predict(X)\n",
        "      accuracy[b] = accuracy_score(Y_pred, Y)\n",
        "      \n",
        "    best_b = max(accuracy, key = accuracy.get)\n",
        "    self.b = best_b\n",
        "    \n",
        "    print('Optimal value of b is', best_b)\n",
        "    print('Highest accuracy is', accuracy[best_b])"
      ],
      "execution_count": 0,
      "outputs": []
    },
    {
      "metadata": {
        "colab_type": "code",
        "id": "FSBMAb9iw8Gg",
        "outputId": "9a602543-4355-4f5c-9470-67548f12d238",
        "colab": {
          "base_uri": "https://localhost:8080/",
          "height": 71
        }
      },
      "cell_type": "code",
      "source": [
        "mp_neuron = MPNeuron()\n",
        "mp_neuron.fit(X_binarised_train, Y_train)"
      ],
      "execution_count": 42,
      "outputs": [
        {
          "output_type": "stream",
          "text": [
            "Optimal value of b is 28\n",
            "Highest accuracy is 0.849609375\n"
          ],
          "name": "stdout"
        }
      ]
    },
    {
      "metadata": {
        "colab_type": "code",
        "id": "DLbCuv4XxB5a",
        "colab": {}
      },
      "cell_type": "code",
      "source": [
        "Y_test_pred = mp_neuron.predict(X_binarised_test)\n",
        "accuracy_test = accuracy_score(Y_test_pred, Y_test)"
      ],
      "execution_count": 0,
      "outputs": []
    },
    {
      "metadata": {
        "colab_type": "code",
        "id": "v5xRz_UTxPer",
        "outputId": "4048c2f7-152d-4128-d5c9-782f1fbd8a22",
        "colab": {
          "base_uri": "https://localhost:8080/",
          "height": 54
        }
      },
      "cell_type": "code",
      "source": [
        "print(accuracy_test)"
      ],
      "execution_count": 44,
      "outputs": [
        {
          "output_type": "stream",
          "text": [
            "0.7894736842105263\n"
          ],
          "name": "stdout"
        }
      ]
    },
    {
      "metadata": {
        "colab_type": "text",
        "id": "OdMOCKAvs4JO"
      },
      "cell_type": "markdown",
      "source": [
        "# Perceptron Class"
      ]
    },
    {
      "metadata": {
        "colab_type": "code",
        "id": "zpMzDt5fwtcE",
        "colab": {}
      },
      "cell_type": "code",
      "source": [
        "X_train = X_train.values\n",
        "X_test = X_test.values"
      ],
      "execution_count": 0,
      "outputs": []
    },
    {
      "metadata": {
        "colab_type": "text",
        "id": "Qd_HKoKnu66i"
      },
      "cell_type": "markdown",
      "source": [
        "$y = 1, \\mbox{if} \\sum_i w_i x_i >= b$\n",
        "\n",
        "$y =  0, \\mbox{otherwise}$"
      ]
    },
    {
      "metadata": {
        "colab_type": "code",
        "id": "rG0tKLsUxQ9b",
        "colab": {}
      },
      "cell_type": "code",
      "source": [
        "class Perceptron:\n",
        "  \n",
        "  def __init__ (self):\n",
        "    self.w = None\n",
        "    self.b = None\n",
        "    \n",
        "  def model(self, x):\n",
        "    return 1 if (np.dot(self.w, x) >= self.b) else 0\n",
        "    \n",
        "  def predict(self, X):\n",
        "    Y = []\n",
        "    for x in X:\n",
        "      result = self.model(x)\n",
        "      Y.append(result)\n",
        "    return np.array(Y)\n",
        "    \n",
        "  def fit(self, X, Y, epochs = 1, lr = 1):\n",
        "    \n",
        "    self.w = np.ones(X.shape[1])\n",
        "    self.b = 0\n",
        "    \n",
        "    accuracy = {}\n",
        "    max_accuracy = 0\n",
        "    \n",
        "    wt_matrix = []\n",
        "    \n",
        "    for i in range(epochs):\n",
        "      for x, y in zip(X, Y):\n",
        "        y_pred = self.model(x)\n",
        "        if y == 1 and y_pred == 0:\n",
        "          self.w = self.w + lr * x\n",
        "          self.b = self.b - lr * 1\n",
        "        elif y == 0 and y_pred == 1:\n",
        "          self.w = self.w - lr * x\n",
        "          self.b = self.b + lr * 1\n",
        "          \n",
        "      wt_matrix.append(self.w)    \n",
        "          \n",
        "      accuracy[i] = accuracy_score(self.predict(X), Y)\n",
        "      if (accuracy[i] > max_accuracy):\n",
        "        max_accuracy = accuracy[i]\n",
        "        chkptw = self.w\n",
        "        chkptb = self.b\n",
        "        \n",
        "    self.w = chkptw\n",
        "    self.b = chkptb\n",
        "        \n",
        "    print(max_accuracy)\n",
        "    \n",
        "    plt.plot(accuracy.values())\n",
        "    plt.ylim([0, 1])\n",
        "    plt.show()\n",
        "    \n",
        "    return np.array(wt_matrix)"
      ],
      "execution_count": 0,
      "outputs": []
    },
    {
      "metadata": {
        "colab_type": "code",
        "id": "rYc6A9E2wrns",
        "colab": {}
      },
      "cell_type": "code",
      "source": [
        "perceptron = Perceptron()"
      ],
      "execution_count": 0,
      "outputs": []
    },
    {
      "metadata": {
        "colab_type": "code",
        "id": "R4IcxePAw49U",
        "outputId": "5105159f-f9e3-4307-9c27-061553a7e7ae",
        "colab": {
          "base_uri": "https://localhost:8080/",
          "height": 368
        }
      },
      "cell_type": "code",
      "source": [
        "wt_matrix = perceptron.fit(X_train, Y_train, 10000, 0.5)"
      ],
      "execution_count": 48,
      "outputs": [
        {
          "output_type": "stream",
          "text": [
            "0.94921875\n"
          ],
          "name": "stdout"
        },
        {
          "output_type": "display_data",
          "data": {
            "image/png": "[encoded data removed]",
            "text/plain": [
              "<Figure size 576x396 with 1 Axes>"
            ]
          },
          "metadata": {
            "tags": []
          }
        }
      ]
    },
    {
      "metadata": {
        "colab_type": "code",
        "id": "u76oalfOxQWV",
        "outputId": "d90d6251-cebe-4ec3-f57c-4a2a53ad80f1",
        "colab": {
          "base_uri": "https://localhost:8080/",
          "height": 34
        }
      },
      "cell_type": "code",
      "source": [
        "Y_pred_test = perceptron.predict(X_test)\n",
        "print(accuracy_score(Y_pred_test, Y_test))"
      ],
      "execution_count": 49,
      "outputs": [
        {
          "output_type": "stream",
          "text": [
            "0.9473684210526315\n"
          ],
          "name": "stdout"
        }
      ]
    },
    {
      "metadata": {
        "colab_type": "code",
        "id": "e9abrgoW-GlS",
        "outputId": "a1392d3c-9f22-45f9-d21d-ea8ca0a624a7",
        "colab": {
          "base_uri": "https://localhost:8080/",
          "height": 347
        }
      },
      "cell_type": "code",
      "source": [
        "plt.plot(wt_matrix[-1,:])\n",
        "plt.show()"
      ],
      "execution_count": 50,
      "outputs": [
        {
          "output_type": "display_data",
          "data": {
            "image/png": "[encoded data removed]",
            "text/plain": [
              "<Figure size 576x396 with 1 Axes>"
            ]
          },
          "metadata": {
            "tags": []
          }
        }
      ]
    },
    {
      "metadata": {
        "colab_type": "code",
        "id": "0q6wRNeO-PDc",
        "colab": {}
      },
      "cell_type": "code",
      "source": [
        "%matplotlib inline\n",
        "from matplotlib import animation, rc\n",
        "from IPython.display import HTML"
      ],
      "execution_count": 0,
      "outputs": []
    },
    {
      "metadata": {
        "colab_type": "code",
        "id": "6k8JZKSr-oeK",
        "outputId": "fe3192cb-2b0e-4519-c967-fbf48dd65ac7",
        "colab": {
          "base_uri": "https://localhost:8080/",
          "height": 269
        }
      },
      "cell_type": "code",
      "source": [
        "# First set up the figure, the axis, and the plot element we want to animate\n",
        "fig, ax = plt.subplots()\n",
        "\n",
        "ax.set_xlim(( 0, wt_matrix.shape[1]))\n",
        "ax.set_ylim((-15000, 25000))\n",
        "\n",
        "line, = ax.plot([], [], lw=2)"
      ],
      "execution_count": 52,
      "outputs": [
        {
          "output_type": "display_data",
          "data": {
            "image/png": "[encoded data removed]",
            "text/plain": [
              "<Figure size 432x288 with 1 Axes>"
            ]
          },
          "metadata": {
            "tags": []
          }
        }
      ]
    },
    {
      "metadata": {
        "colab_type": "code",
        "id": "h7-kujHh-uSc",
        "colab": {}
      },
      "cell_type": "code",
      "source": [
        "# animation function. This is called sequentially\n",
        "def animate(i):\n",
        "    x = list(range(wt_matrix.shape[1]))\n",
        "    y = wt_matrix[i, :]\n",
        "    line.set_data(x, y)\n",
        "    return (line,)"
      ],
      "execution_count": 0,
      "outputs": []
    },
    {
      "metadata": {
        "colab_type": "code",
        "id": "kzXVRFJo-xwI",
        "colab": {}
      },
      "cell_type": "code",
      "source": [
        "# call the animator. blit=True means only re-draw the parts that have changed.\n",
        "anim = animation.FuncAnimation(fig, animate, frames=100, interval=200, blit=True)"
      ],
      "execution_count": 0,
      "outputs": []
    },
    {
      "metadata": {
        "colab_type": "code",
        "id": "Rphin0gy-0Dm",
        "outputId": "8dfd9ec9-35b5-49bb-bc98-6d4de92ec011",
        "colab": {
          "base_uri": "https://localhost:8080/",
          "height": 309
        }
      },
      "cell_type": "code",
      "source": [
        "HTML(anim.to_html5_video())"
      ],
      "execution_count": 55,
      "outputs": [
        {
          "output_type": "execute_result",
          "data": {
            "text/html": [
              "<video width=\"432\" height=\"288\" controls autoplay loop>\n",
              "  <source type=\"video/mp4\" src=\"data:video/mp4;base64,AAAAHGZ0eXBNNFYgAAACAGlzb21pc28yYXZjMQAAAAhmcmVlAABo5G1kYXQAAAKtBgX//6ncRem9\n",
              "5tlIt5Ys2CDZI+7veDI2NCAtIGNvcmUgMTUyIHIyODU0IGU5YTU5MDMgLSBILjI2NC9NUEVHLTQg\n",
              "QVZDIGNvZGVjIC0gQ29weWxlZnQgMjAwMy0yMDE3IC0gaHR0cDovL3d3dy52aWRlb2xhbi5vcmcv\n",
              "eDI2NC5odG1sIC0gb3B0aW9uczogY2FiYWM9MSByZWY9MyBkZWJsb2NrPTE6MDowIGFuYWx5c2U9\n",
              "MHgzOjB4MTEzIG1lPWhleCBzdWJtZT03IHBzeT0xIHBzeV9yZD0xLjAwOjAuMDAgbWl4ZWRfcmVm\n",
              "PTEgbWVfcmFuZ2U9MTYgY2hyb21hX21lPTEgdHJlbGxpcz0xIDh4OGRjdD0xIGNxbT0wIGRlYWR6\n",
              "b25lPTIxLDExIGZhc3RfcHNraXA9MSBjaHJvbWFfcXBfb2Zmc2V0PS0yIHRocmVhZHM9MyBsb29r\n",
              "YWhlYWRfdGhyZWFkcz0xIHNsaWNlZF90aHJlYWRzPTAgbnI9MCBkZWNpbWF0ZT0xIGludGVybGFj\n",
              "ZWQ9MCBibHVyYXlfY29tcGF0PTAgY29uc3RyYWluZWRfaW50cmE9MCBiZnJhbWVzPTMgYl9weXJh\n",
              "bWlkPTIgYl9hZGFwdD0xIGJfYmlhcz0wIGRpcmVjdD0xIHdlaWdodGI9MSBvcGVuX2dvcD0wIHdl\n",
              "aWdodHA9MiBrZXlpbnQ9MjUwIGtleWludF9taW49NSBzY2VuZWN1dD00MCBpbnRyYV9yZWZyZXNo\n",
              "PTAgcmNfbG9va2FoZWFkPTQwIHJjPWNyZiBtYnRyZWU9MSBjcmY9MjMuMCBxY29tcD0wLjYwIHFw\n",
              "bWluPTAgcXBtYXg9NjkgcXBzdGVwPTQgaXBfcmF0aW89MS40MCBhcT0xOjEuMDAAgAAAEt5liIQA\n",
              "Ev/+963fgU3AQO1rulc4tMurlDQ9UfaUpni2SAAAAwADlGX8N1sLiBj0NKBJvowf3qBVeSAdoAr0\n",
              "+w1zkLQt5DSFGFNFb62W88UwVaTd9YnxXo7E0gk8QwCVGTLvJMo/p32bwHcPWc448ecru0xsDvkU\n",
              "NqrCQUNQaDYn9jfI8glu83w+AMa+bWulIQAAAwGAcL1frfZX7SGDkDyeP4A1T3d5D/KOsxoR5574\n",
              "YrhIClTqXiKfQJ+03Xbf90yNXGgq60vKYsCJVuRr6Dd6I+0Y2MxeyYcj9E+/C/Vzej4iNb0+Yac7\n",
              "A3SFF4pBu5vJyAaRGYDMnZ7lnEaI5PQaxWm4TsoTXG8OQ52Vt4pvXTc028uOf4XMfisQvIFH0/Zl\n",
              "pv3bBb5aOJM18Gdv31Mp4tBnk2I2MC6nsRdrKeAoqtpEPJIkEsKEIC7tgfd2yutOQog1H5L9GWYt\n",
              "esYgaFCVQ1T8D44ZLLmK5QEp/eRL7tAWX9hgRWph2RiMXMwwbM7GNvIPYcTiR3L0qw2Zbk5XWlte\n",
              "UGR8vF2YigitcSL+8l2LSMDkYdEGREygUTysHsul/ClwXruSpR/X8wJuGot/LC3207YQw7Q/c+iw\n",
              "bM9DjvIHmlXdaRlOQ1usSv1jVKkrncbfqyQphtX4DszyrU3HaqqajmOWvx/1O7FlOgTaGC3+ibgI\n",
              "fR8ix/4aTNrRL0dzUFq9lAu5XajFZyuU0SzIptT5w+XEw4cbXIWuz9nEyC5yjUYMVpmdVKpJxRDT\n",
              "QCngY7cclzrSJZM/oER5pEu/923tVGeDt27/oyVIdg3znavG0K69zJ0WP133NPJ7xZ29vHmHHBRB\n",
              "0Zc3wS4CoqSpMSOxg7PYxwNyduIIxClfr5RAzcbVieA3siAxv4AYGFRF4R1gpiyBK05b25VBbx3E\n",
              "DFerpUH8VIeEy3xS0yHovAUAknCN4wA+6iNt8PNWs0GONywul3/p9HxHRGObZdzbahfgr1QJlBbG\n",
              "OBf9RZQwSrimHqdepr24sHpWfN7ylBGddaxSMw/agog6IWuzgSHVTqm3579O/OCB6qEh9oqj4Ctz\n",
              "p/ES0brci2r6cO5viU7i7Mo4k4MAwyyxZrs/BFyZDXs9OPWWpp5nqAZWkF8cul4X6D4k11KQ7HwZ\n",
              "vaYVKvC8j/TK4ef+0Nnh3ROzfdyVxnpLpAtX143Cky9B1vbYy671AJWyX7JUxSUGY0zKilY/2CWk\n",
              "Zoj+pOBWP/L4QbkM1tND42hGWMheNGy8GCJmkiOHY8h3KmlDh8sviNQtCdK/HZKhLp3ra/Pnqd/I\n",
              "ZsqZiylA2eNeWan8yQWCFV2LB2oC5eHTOTUkHUFGlleHWyULG/1ORhLaSMxrpcDE8uXBiRWARHHy\n",
              "BtVkxEOzSdfkIyviS/l9q6qn4IX/FWbwJ28FkUixyx+nR3/vz4kpc62UNGotAKjdAVVVn+PUTAbv\n",
              "YrXN/yLYuGPLaXFiZRiWZvoxszYk+my/DAfkWIkFFLRyPFIPfkbIJP6l+PZTCMxEwCzBqB7lL+Rw\n",
              "WI/OAE/r6qBM5kKguWibBr2420/hX9C8Wuz+ODPq36B3ZJu4WVvZPrnYfGXckc49xS6QFtnmEDB/\n",
              "7EU1hYNjh+RZNZ4Bis+8GUpIbDPxcAC9wiXjtzpURv6roeQENlc5lRRB0cKgQw9nhRhfjq8JQl4i\n",
              "74F7GeFr0z/5BlZG4qfEJsqW7CAHlb0NBVQCtj5d/asCmuR/SHGOu85OA0ah/PWgEfcruFgpmJkE\n",
              "BcqvDY8n1q9aRepHZWnBfGBGRA8mc01RbD1mXBxbjBRWRxGZzNwo4JB6l2+9+TpxmhaL3qDVacKi\n",
              "39hEpbHMYoEV7J0ZvmMw7uxvm194dCCl/4GHFOK67sQLeuYAHEc4A8j4Safsd9wXEgB3fk+fFfX3\n",
              "La2otqBuo13V3omGV/FblZWomNcfFv0gbueY8TjgI0q2UUKpGx5zkGcnjesQyyxwtoAAAEkY1Nip\n",
              "ujED8wp2/C9Tg4LEGsexFqFIpvJ3rv5jrfRakHNdt+ve2bVnW0DhT86PhaRNjuqvzzJf4WP7yHWk\n",
              "6ODbazZY4GRd9FGeLIEtUxGVR3NJ5apLjmkgDK4d82hN6exfhEGf7NeN98iGShFWGMbnH71QTQR7\n",
              "mTPVhtFrtgF6BGuBggP4wpYcZtI8vmmw4iqA71O6SkP+PKfdPzyqQQYbkKeoItlo2ezkSbv9sNB6\n",
              "nartfaQNclkpK7GwcN5+Sc+0iDMKKqnJyezWZWPGQ+qs/R8C8DXafUHVntxUyCrTZLUUhAsgPWcV\n",
              "7seMQ9rMx2O6vyZWcK4qUot794tbkY89D/VLCrcVZfHganw2hS286e8HWEYAiJUjZVCcbB5RO+Pg\n",
              "2Ol90SgHivH4H//+IQy11VTuSNvsoamKIDz59+3tepgdFsPMTW6uLSrgwmeLCiqgLXA+9mKkxLsC\n",
              "a8EZhUS8zX2aWapMj/YO3UaLJqDY0kUfuKgbD//9/XuDsAvQwXA6rUYVCpwYHCe2wfzDmOSDw8a5\n",
              "2/I7QHIUttNWX0lifh6YUAyT0jZohhjDnA2tOv7sAMqE1WMjVlymB/JNB+M2QQ0Entbrvr2eGYuk\n",
              "MsTTss6DCaXk1Crj/YsqFJgv+R6/pTRdbZ6Nsby84/p5LeDX+ZkfsJfDTA205YcpBPJ4fMnLj91F\n",
              "3GS5DKOii7irCq0v7OaxBUdt6YFd+0GoxlYkH2Y3hdgylRO5ufmsuoNgkH0ooeOFwMpDrRIQ8zaf\n",
              "WPoXToji7ycKjzLZ8fn5JzUVSDYaf8gv6i80DQLdGN/+jFNwRtB4EtenSnG+/9vWqmpxLOj/KIIf\n",
              "SnHhoSaE/atdYlGNcWXZl5AFD4eZrXaCS/ZNgtBRxfd1fhNMnzYBP5ksqjeDXaPnR8FNhaei1Gw9\n",
              "DhSGya5LeMfx3Yy5mbQe2ps62+jQS/jrHYeiVQxRzx/W7q72+KHkEu2FJ3UxDlDpQPGC4gfpx0Yn\n",
              "8nX5oyvH1r4kZaNuJZy+8/d1xC4hbUKPYFWmqEDby8iwgaUy/V6hMMyiskdVcHOFer56Cl480HeN\n",
              "KLbPrVHDPsbbV4NF0dmoSVEzqeeT4jht0iXAWOLXQ3GLpNHhqv+xbSS+4NhIWgyljcwO6fjWdMfs\n",
              "YNeRMnqOg4pkniRZgbdRnw6bTQZs6eTEnRTkN/WnmZB3ObGZMgEXqiPGLwnhCVbAK31xPrbuDXQL\n",
              "U8FAXH20RcDy9VpmMWadIpCaPFqczTiRJ7xH+PDVi5kniXCbggdXUkDUcgSmKTVp8OeRHNUAhZ6X\n",
              "aGBfpyqOtUaSYY/zTLxXsufNPZBcmFbtAlPSTwlttBx0idkkaZdM3+Dx3QMldwiOQmeZpgVM9HIj\n",
              "9V2G6RcWHXZIZsOfqZ8w9mQlRax7ALbfihwfLBd0yEw0qMOH5xl8zrruiJ/MCqySnEMd7Fzv8zxf\n",
              "rmpqnG2RD/D0dqXzCSjSHUy7UWHnR2YIpOtiNPA15X7goK9nbf42qgJaYvg8MlbuDJFr8LkzAgQA\n",
              "XUd8weps8GwNS354yv/mJpacnt4f7OFWPfZDADFFR3hrYzZUsu/3wUA1wWkta76svjIPI4WIi6t5\n",
              "fF3A4BVa+ukGnM6FBSo8f+KOpEXbUVIqakAdeyS/lckbMTLj4R9YZ5bVXZiSH8q1nQTxwRDZUUqG\n",
              "+eLT0xk+AF3LLhedh+uNDyZeNv/y0Mj+xPY+IkLvzS2ka2D7oUTZdDftHfByLVRzlKKTl9P1hjOb\n",
              "h4qhpeI3ABvlgTpCvf0jA3VF8iooHp63emuAJAOivpk4EfVQHrPxchrztQ0j3HgWmK/ptm1gfIWk\n",
              "ZCZ9FimQ01dnyN4zbC6QNIiQwOQm6X6Z0LZF9wysaH9fCOrH8yQ7RQZjb02elSZrQ+XWCqLxMtd7\n",
              "J0+tD0rNf6DL0Qvsqcx20qV7x34P6eAUSGPsTnJfi3+ynCvjYNJksaQqLLosRTywL5fpgFXobix8\n",
              "0ckoNjyV9ZzD8ZFg8U4vG/5kG6cVH+Bnd7yNhmSn/dWWnt2jftO4Zb0jviY6CzP6bK2uKKeiPrfR\n",
              "a0KpUgts3vOHTQhRzuL2rpn/jr0voOJ/IMCxR25Sbtp4SKdONGweI2Z1aAFwBIRgGZe0wF6kQi0K\n",
              "NnoOkeHW+GfcJZZkp11BbSw5wAw4W4PpKtpXUBvQ2pBsW8MiKLgw6pJD3IK7KSEM19p5VRpbUSpz\n",
              "/XynaEco+ReNHxhd/NYYIbKvz6Vywav8du855T4A9x/rvzHJpqXlNd1dVexMHXS8sdaz8Z9mP+cM\n",
              "NP5dyYJn1rfR/DOEjV6Oi7FVFiwMBh2p0NpZx0OJ5IYbjeuiUTn9izOoGK8FTw8z+FaCVwguBgRr\n",
              "TsvXjotJoFr6P6ojnxvy9zU3asEusLbZfHLuAaNP3d2kMD4Yr7KVgtKT+dHoZm7/IYMICeEl4jjD\n",
              "0SWaCXtfcmG+55FyKxgrzRAqaQ/uVgCfr5YEdrU5iHRIMJq2Cs9cD7ktCC27uUOfcmlqPofuioa4\n",
              "3m7F/A6/oAGBhSE5LwKlnEzXjmvwhg7uRTfiF33L3lBZ9OJIJdtOaXBm+cMs78c4H41vP6cT9kL9\n",
              "Jd3Ud5IFZulDEFPEn+U/Oj2peAQcV1MvQwwRf8E2E95O9BC5soJUMuWPDH/phnHFDDZamY0NApFE\n",
              "fF0+30mwZ2HbwF1fQZ6hhKvOnbHQ7DSrk/Mqxg1mjCNiZk3xE79fDiy8KjDoUSldQOB/7U+LMjVR\n",
              "FqltrOMaQBQ42EaUwg58WS8SO54YTpN17NUbAQAdthXDWukTyRWOI+GUrU09Jmv3trgmFlinpILf\n",
              "XhEhqdt8icZg+egnV9OEeHq/L01oJHR6q5aPEK6+szuABKvHNKuZ9uTNPzNsmjgcc4WKnwdO3r4x\n",
              "YYRu1w9ETvYk9hTYUbks7vdLvl5dk9wfISiDrllh2cGxMu6XPEseWVKxMu/d6OY6+Cvkpxy/fNU3\n",
              "xeu6Xe2Upu9gq1uTC5+7VSGakt7HYl34MsUY4gJWV9qVtnWG2IDrkpj++kYcgr2AGdDKRBA0Dtgq\n",
              "LhOLFK6l9Z7mR+kUAxp4mYwCdZm6g3ua9w9c6e+/Phi1kthDqvQz/KDFXlNRHP3qn99yH0t7elhS\n",
              "fsk8QGJfteVJTKEnIRFDxtTk80EHEaL00macXxihY+KQh76T1UroJejRTuFWOrTmL5dHF8P0cf8f\n",
              "J+ZQwrAC1bDtBxxJ30iYnP3cPxQIWYUwtP9FxB4EUAm0iCH8NsRNSY98L/f/id8WVyi32fY+Q1uE\n",
              "w0IBJXEv8fKZASoz+XoiBQ82UpHqdVeAQ6RUqd3/J5zFk4VBsGUxgCLm3sumrWJWoq4rAzx1BJ6Z\n",
              "cNN3mXVANdlp8W49VgTGU0aHQ95ZBVhuRDPuyjwtACjx2turv6AeT1kXqqKKHzAcDG730zWHBIlY\n",
              "At19FI+6KfU0BM1I3dKqaq3v1M2xLO9IRHhnm4UWPEX0FRSCfleAdCpLehNwpnJlbQO+xu7AX3h6\n",
              "RhlE6pENM829WmjVXrW+gV5C2fTia5+uL/AdMKRLlFWfYEJZtQNKNnCmLws2pXos/LOzgCATc7BB\n",
              "EUvcVd/7xDnR4YxGRznIyiPxlj+0R0a/IkxjNGTzF9S5VbLHCUQ/X2qA1EHmAoZlvY1Ohxia1GVS\n",
              "eJLrlAWSUsJ0sObz0ZROBmCBZKgKCMSwTFb6xKeOw0XqeaJa1QzISdAYgkcfMykq+Xcpbw/gc1IB\n",
              "aip6xXi+haGTM/ffa1K4PooDQjuNHmOZJH33CLAROqNiaDLBCreW52W5mxr0VP5EABYvm2/UHnPx\n",
              "qaiGFCGSNanFs0cfNz8Mf6ZUI+XMoN5ArIaqxvwGVQdgDwIyIzhOg5tqAgx8bw0fvFqT4jyisolX\n",
              "y/bWCw5ahGwYEL4OJ2AX9sgydEd8gEr/N9WHaZEjq+1TvRTJAssw+fVq6kZtwR3M29CgxTnbD/nQ\n",
              "TJf69rWCJ3TYmGmNKWHHC+c7qCwGHhKDiSvSH+iSLFG+RUx238J59cyMV+Ea9OoP+1VQC+2GNGZD\n",
              "saFoJAWb5dMTFGlkZArCJlygZhHGZhWyE5D2j5l+LI2xZU6MNzilQkSbmnWDVieu+XpoqhGO0Tey\n",
              "NFbLl+uGN+lNXOeE+DFbmo1oW1bGHnnS03qqsHj9Ha5KN1RiLtaUtXx4cKR0m/9fHm5uqntyURW0\n",
              "AZPygAIWRr8QsrSasogTBsfUjKkOzKRoXl39d4Meycv0LegJA7cIyKUR+7A2ZPsIHNDPzAjELeVt\n",
              "8056h6iIT4mKVt77fCI4z2mgQ6WOBxUpBl6CSsbvkubfEmwTfO++BtGAS+Q2guLQEE68cm9k1yXm\n",
              "WTwgy6xqMP7H610wn3o21+/CvdmgCsviwK1ydMC6uOhNdLZMJ6qSohLGd5HYAS2GoUK6mXBvWGU8\n",
              "HJKtjjGHs6+0UNcVp1MKOUb/cT80gwC8Eyf9lZhp+AAAAwDHJCEAAALKQZohbEEv/rUqgAajOpwX\n",
              "eYQTfEKJpAGdUQadwZV0jTTqkPPIjnl3eS+mQr5vjiuhORUDAn9Uf7p4dwsnC/EgX8MfDruVULi5\n",
              "Kv/IcV0N8S1bS9geDpuIPbTnFKQ/Gqz0yNlEXCGgqWe3DK3dzOHx36pSsVddQVkvt+I7Dyzq2x9M\n",
              "CsgxzDhp53K2Ze9kbh07Y/AxBofjNOnB6k/o6NjSSpIdgkUbXdieU5CA5kVjwnc7H2JCykCoAPgt\n",
              "TtFrJg6yaVEpiVnww1Awm+FF01EXmAVcsC6pQwGxam9O2sKfdc7C/XjidiVrYx0VarhtdR8K7xO2\n",
              "ejkUmJiThe3SL7I6Q8QwEBesE2Sj1GMeSoQRikBLu3+Sb4WEOSLvaCyvynbVAgzhp5ZGV28KXAdV\n",
              "c6vZYzG17xylS6nZimbZsZC45zHgF3RX97ZZkeEaIXXOR0zKXLL4MqapdbFcM7xglJymIfCWWZCS\n",
              "I79+MgtmawK1mrfGy7Rb5mkdh4yfbUvUhDZggjjGeopo8bwBZujq6uExQE/ZL1TsHg5xQjaSDmba\n",
              "vZKvCRqHiCn/4c3V9ZKDOayWpoES9trkI+iQDgXYfs4yYCZ6EQYNfv5786iZ9tuyKJLQnB7ADpv1\n",
              "46MxNPtIjffnliL+urnHiGVbuCSV/E0mZeYdHwu3DZ8ioiyOpw1Vb7h4rsDYNfGskygOegaOvBz2\n",
              "F3ygdknY85t/EkMMqIxBLFEzQhVPvraiz/J5l3H8FcZ9/5oG1pnvMyFn6rZru+wFSZiZcZEZQ/th\n",
              "Tb65wAA6H8vewajbaMyroYNRGY2OHwSHoUipdancjBcCwME70/xUGGrlJZ9kEM26S61FL5HpG1Yq\n",
              "RmtzBElEFXuIpxI8fDhvmv14Xz+H3GoSxAYaqB0CfuLpvmibU72xgGfEpmDr7GJZtW6mDh8hFoQX\n",
              "5BdLei5kFw1KyrifV68YAAADMUGaQzwhkymEEv/+tSqAADeR+U2GiJmmQA5m7ixnF/ZLqaCW0M9J\n",
              "FUAWqTIHVjvJj62DrDeEm6fwctW2yF4rO66vUVVKlCIkQ1hjWMY4s6YyFSpZEWLYK1bNl5tJR+0t\n",
              "xZbMPyI0PIPG5ykfhVJtD3qPZLtCnhhSYHYXFq5hN4qHg8CDbmZMHIYZG0CiuThmXOB8JWWrPOkT\n",
              "7Xu2aclQ91iu5tII+qXnLI3UVxpRZW5EJoNkEmMafwP1cUjMWQ0r7aut1xLRiWCKbdA4TAia6OlG\n",
              "Idt0GEraebxvVAgKNEREIoFJKuOecAYQ+Oy9NCVinByjjREq3T/hrPuCGE4GGOn6OFgByaCRCvg3\n",
              "r4v70Zab1Euve+LKKLZd9ymgzIWCOLJkcf3hAxWjwKXJ/cLGwc6kd12NT+89WG0QNScr8GtBQUwQ\n",
              "DQpjpAbtb7u70kuVI8+nF/Ti0lBLwO03Q0tdsN9gdkn0m0GBjjR+4Vmd+iMNKPWEQFixt1hsd6MW\n",
              "Gz6ZJksQU3EOXsbYUHXFN03lrJ6A0iD45/vAHcbnkHTDfVIno1k9xL+hzydMABIxLjdJpe7U4BTo\n",
              "7ZsmrLkXcnZVxOs3RAQkPbE3IwbIjycp///CCQeXj3L2GCRtn+D7bflXfaEkpegCdr0C8O+k926h\n",
              "f5K0dmDfdPYDjYTAuMDVoaptXO+BZ0COa8DC9v/Y1eRu/AyQlBEzFQfPSieBfZf4Msgt5s8nY7D/\n",
              "c/7uNwPebKK0vD0vpXwzKFFdA5OEKEeWxV/X244GtL5Brx6gHLZrYlRq7L0E1UCn2H8NOrHjiklJ\n",
              "SnyAq8Xt4CoK1wW5JXSoqeDMuYCZjDt6i9OlJa+UCREntd4M9D9DEnUpyRTX8AMNBVrNEL7zdIlL\n",
              "EgNAnCoLKralsoRaMukYTbxwUwkxpwJinTtz85JNMzRr5m2RRwh1Ht1fQDhsmQvaI1t4ZcQAnYt7\n",
              "6+kIffWLOiTo3f+WzVPHI1qOA7qTMjpEDBakrWlkmA7NFoTd3YO79kzlGnNkQ6RO3kgse9qNRbFq\n",
              "6dVS2MVArFANF6s800o/4cHt+fKK99+JYGdOgL7VzaMQ81WE0VEAAACrAZ5iakP/AFSsKCR79dZs\n",
              "TRFMDpUlABvf2h6rk9GqiRh8ztxUE0p+EtnvOVKKE08M/zorlEZ+XQa3iOsH1cxdJVXO9Q9xM4z6\n",
              "wDNwIjjB1vPkTJQPznSswnSK54/9G1bomGJfe50BOaNUgjc9G05DSQfJ232Bf0kB1w9xdAp4fg0D\n",
              "mmL24zVd53TnDoyy7gNtqPvhr8JCYgExdVJrRLeItmTt3Ww/KZUGQ8XsAAABoEGaZEnhDyZTAgn/\n",
              "/rUqgAA3k3btr7jKAHH3WoLIvlV+lV4HCWNMPBA5A9+pXfE50UDARytnbTSNNGaQfSbM86wsTTWX\n",
              "RzAHNEWg8tX2/DgJgip3Iavyz6Lq/mJiyCReo0h++wpKrVLWULBkCMHUv4biJrcwZbIu19J7vL0x\n",
              "n88ES7C8G1J6QCoxFNhrxprh2LlaKQD0kKo+ZsBxdFa736HBBgmzu9sq8NLD0URvpdEVi9EfUMPP\n",
              "sfz5YY4a/Twwa9aTyVBRZpYxlKhSD0wE6tgPDWil1abBT5xRGNLSB461tPw0MuKIqqSfTF0vWPGy\n",
              "8T0q4y03ImC7JEtwxHWjhh2oVP+M/OdqCkcddMjGSMlQ+zjQTrV/D8XnmcKyviO5Kjv74RWgHH3n\n",
              "0HT/gYy2c6RIlZK0LyI2tSRPJ0NxP/YpyZGPQHMUxh65bMADj6JLwr19praxsyDgUQPm2D1cC9rD\n",
              "B9sVORL/LSte8P5dSofuTo16eMGQCCmRie5uUqVTfR3AUzDk8PJWliZGQVvlvTiW9FK4jc/aU/jP\n",
              "myuQn/M3AAACrEGahknhDyZTBRE8E//+tSqAADeTds9j4eYBLkARBHYk0Np8ip0QSp0noM8pWO90\n",
              "nvQmV0cuau7rusczY2+VXBogwjhDUdBTVkixcE+re5QWO6DJA6pn/L6blPA7Yv8K7YKGaLgbK6nr\n",
              "RdqWYeiKxyKW1cGLP4aUU44NZnCSKVVUrJellyOW5uoyowLL8YETbqOpBLrH2ZOhteWEMN/ei3OG\n",
              "6EP9cHJbKGcgq5kaGZ3MAriGk+MhgkWKQiuzS7y/LqbAxjJbWqVw/uw2guH6whteJiXVGW1Yjmmd\n",
              "VslWr/24FK2EHcPTZi9MFe6LGLC1y0O2kbClVXeQ3DVSH3AmGvWKqm/7cPDGdiyk7Gbbzir4A9/S\n",
              "CXMpUPxqW2sDW8m2wfuCPITmjav9KwSFr2cKRIRzxtJWAzOmp6/VE4EfeZznFvWE3xdQdZ+gCE8X\n",
              "i6BmsUEAGRsZUoCFYcde/IRzssePQnwpK5idgKuavdUqkY9w3IxDFiZ2nlz1XIJE6tmHYZgtvq6A\n",
              "tDrWgE+gBIHySDlL2TmDqGjd70crc/L7A5Nlg9/SDtJG9Zyr6OsGJqvfOUVFsoAAE9DMiEhaI54Z\n",
              "Rc2DfwQtShBt1TgVXLRdnUY1M/y8EWJ3ib/es+97M5Ncxwd2gDMvmpCytpb+g5zo6bToPY0EajEs\n",
              "2B59XqDRj4XqyOfoSLvPEk1Lh7qwNecLb90hTxXsJKd/v7Spd6t7yxsDI7cuPODCyBAbkkbsXCHr\n",
              "yfBb/9aCVMVKJ7zy5Swh+AfS9S50yXMFn5wrieKw1hPwaQV4GYDOSngjeUj7VGDfssjD2YxBgM+O\n",
              "O1y9b7EDONXz4kRgW0d3WExRhVCHm99gr4vbYWLI27FTyHdmmKss0Tam4N9c68nvXo0aLWeKuJfO\n",
              "N/Cp2pCTnPHKgQAAAFgBnqVqQ/8AVKwoJHv11m2qBIjNQYEtAr23CCp93WbYDtCKSvvzZBkwYSPq\n",
              "BAAIy5vAagAAouYGFPyX6m31T8NFc4H9irrpmvEvMJFsUR8Nexk1pN3okguJAAACd0GaqEnhDyZT\n",
              "BTwT//61KoAAbzbsKMvPwXku38XNYSKKFk1/AeR4XFJ+uaC01PWl52PqKbZYxk41GfRPR4cQHhFK\n",
              "3ZZGnWEft/mszydZNIv7qxJ80i3L5CAKQyNeR/cTG7+IRBQMFrlU2+XWTUtAJair//G1Zb3jJqFG\n",
              "HCtrrnhgFTCV1KT8VxdW08tm0o2BPmRyR64/0ai9bZCGwXUuqnm5qd+mYlG17GFSflZh2aBrfFSG\n",
              "jmfUE2mu6hy9VE+9T12NfA2bh7+5IVaXm3gBBq6ELTrJ18kV67sxqPWHv6OMUCINFec1X4sp4Nju\n",
              "FkPJHfgZF2ckRmZTloPo/2QSZwsf5LOemF3AVlKRzuSlE4ag0x/TfxN1y2sOKvSYvPrYrGUgRKQa\n",
              "p0lY1qz2MyMfHSs2XeI1UciY3cMnZjBaUs5fdfv9QEDonTWmXhDnYNqIWZAUDBL8WIWpupSwnedy\n",
              "SZFr0YFXmoCGhVTfBw634vU2bdxvzxomcaqKuRfptSDCZkVqrhRvyQ8hC2t2N6bglVVprdwp0cjU\n",
              "zA0u2eYwc3XBh+v35+3dP2PsgVXKn4tZtKZBUL5Ba5pnbA9+EspMWGWLnaaJbOO0820ChWKrVhmX\n",
              "157v/Xx77KNf/QVwb+qIxTTASz5JDpThgoXQG6dM/6Bh/NyaIK+G/iIrr8+7hC7EO9NRfXbLLTbe\n",
              "AeuZFY50GZyNhOv8776eiT2gFAwQb+UgnusachxZhC1q/ceHjA7onHGjTKtmFRGSEsfxL23yrolx\n",
              "DQHOacvaPRoQ6M5JVeBXyPFi6rYKQhyBlNHxb3QUmDA05ZoJ5KjAelvpuq6wLVv00cBlLbkAAABG\n",
              "AZ7HakP/AFSsKCR79dfCqSo/3pI0OIHXgAFwXWIC8O8ICx4NeeywI/uuAvxb/tgw9HV7MEnKn7U4\n",
              "n2l3rQBWlYI7IzQE3AAAAr9BmstJ4Q8mUwIJ//61KoAAb3ydklwAyNyeJogHRUMMazgvWGQNqtzE\n",
              "t27mu4HQqRjrCzFb0YCJCLcMHfm6YPOUTUIXZK3i3CtGI3DYpweOFzwBgNu1lLga/riMSCe3GKHW\n",
              "6N/D+2zmckUosPAtpquv7XwcQNPUp1IFhGJ61VIXfpT5ZhkA6Ot3uPodVzZJh7kcR0lsryPUzT5T\n",
              "LUAuTXUaBKZiwPzFukRCSY9w/Srr3Wmem+TGa7/2+U8HDcrzZ6aVngEfGnV1WNqYrmtYSFyzVlSC\n",
              "dSyuG2lDlVx2qc39QHk9G8CQpI5jRSAtV1q2LepmMSf8Pu3ZB/P+CSrw0QsRTDJIXKSJSYSxc6jk\n",
              "zwDwYQ0L+eVmtMZ2BoU8RL+f2uzA1pKkqTivP6Cnss3xz2Gqx0lDjiF+5282uMRo6dNJC+HCrYMy\n",
              "9byqpQ8wUknA2JAfvs6P+8WoUtjO+fwLRv4ah2w6D5Em+zGgmOaDfhDuMTz66aGy5UWPQM5nt3pk\n",
              "a9p1sMnDMm9IjoSpjkxqM5w26vIElg70dT5K3Cwx46ISmhcTxCXS5yotUEgRKVSu1JzP52CwvhNN\n",
              "J92iddD9IF76kwfU7npHWllOtWS+ISrivh2Jy1T0AYK95GZf0mtgKuxd22h0HjStu0xc3hosrbE8\n",
              "/Ws8DKZot7jxESMqjS7iF/RCKkiQAP6uILqGEFx+nBl4dI0r5AlGcM2LaBir3TNQZmTigCH0fkV+\n",
              "79ukHvDz/JO5StM/fm3d9snIk32FcaTAy8v8DSYa76q9KVrQ3E7GcMmOdQujeqUgNUsuMN0V6mw2\n",
              "YxC9x+7b3oPmbHUwIsR2BgOAx67QeHxld9lPpREvZY3xM4gxoDWUGaS7bHEucwYcRaAPIfmBI7Pq\n",
              "vttvLxDXQ/n2+YrUNCZjpOcp+FpZVD99ltSSQCO+STaY7AL2AAAAb0Ge6UURPBD/ACYtyFo8I9Xw\n",
              "dTB10wA6KOkaespCoymWaoUPGgae5zn+cVfcwSykAsVAiR00oBCZZAHQCMt8suGf1m0pMDUm0fJb\n",
              "4JBriKwWZaovzLWVyzpasjV2dPm5n/RBjSoO0xgy8fZL66hbUQAAADsBnwpqQ/8AVZMOhkB6je9y\n",
              "d+WgBxOu6Qxw2vQ9fDN+YiP6e68PWhwiAA5IELT9Y+P+IBt35WlKuyAy4AAAAatBmwxJqEFomUwI\n",
              "J//+tSqAAG98s38gCZ3mzhTgZkUiaDWCnYlY6l5U9WDf7JuWR8rUHIAahDAjfAINkkWl+MJHAsqQ\n",
              "YWXd+ZK7NQVi8bVgYSBiVJG95XaOM5cIw/LB/0FLVq8E+Zowm55InrhDHlKjGfMfE3gsiW9+6N+j\n",
              "2NRjSSoWnbA7jVuoF3lPsqmWDRwfV+xf8ojo7b9q7zDGH6DwGaR8qXl+bAqhDW7WOAqd4GBZsbgx\n",
              "pa0wMNNWQh+Y1KTyZ0pBA+gqnN7WJ/cRg2fxjTtcvGfdWSEV+8Ha4Hdq7DdbO2kW4zx30wcKrJqq\n",
              "E5wnlmL2osL4+qZTmLsSFiXqdrpN7xGzWsAVN7RtVU8itCLn2+al2pvW+KObOJOKDkzsNgxHe5yw\n",
              "l+wYAmMYi7tgjA4UAHgE+6p5Zim/RWhmZDZakAt2AHbtcijlWytSkx1Ae28Igrk78PUbGE3NFTod\n",
              "5g7UJWQPPQFcA5aaOdoTNp5AQn0r6E3F0i+KUkrPpXY7NrEQIKGFgK2m3RorK2WWqq3Z4e0hpV8O\n",
              "esXWvCJNKFMHuFnZwwltYJOAAAAC2UGbL0nhClJlMCCn//7WjLAAHHRSCk9oIAGWAL6i2790Ur2g\n",
              "uUzZoiq4hx0Siw2hoFQ9CxrGzQ4S7oX2Ai2j+X/vu2bgEjx7yV8Q9QM5DO1yID2rShAYC/fBwcK7\n",
              "4pf+9nsJyDASn3YcGYvo/fG9XUKvUYm6UKpw6QQecnE0AYAHbhTud64kYdmWH096l+q0QAYVBRcE\n",
              "mA36KU9dAftn4AEWRJuTDrd1lXPy7qqNaPzywYa3cceSBDLE26zboLz60i+2mESVCn2QUYTfWY3S\n",
              "6NnsIQggCDjYM2ifJ8d+82j0Lt7LDeKNOy74YT2dVjIxiRWStu818DuWm0kvAZLoW43Uls1czJ3y\n",
              "xsgep6hOxQMfxCgl1zgKkdSsGWcqFdObuL2SKxZ7vg8c1iMceS/70U7o4ZI90inwyKDH5mDPyN/j\n",
              "5BFPjfqV/ghGMGkf33/NjomwMThDuynuffALOjVnq9pCb+r39SQ68PbINCJ44LvPQ+Vs397gytSD\n",
              "92By2SfsoqWpTzyVANFzRUZD9Scd8JIa65RPrG94IsjguW8hyaY+iDsmVfSAnV9dDkNO4bNZtKHY\n",
              "pZ+66sZNUdYIJkTniNG1KprNQG71Es/LM4d9/I9fInUiwJzWmi9f5V/ECNgCvWIfpOgNaYjH3xhg\n",
              "VbPcbp3WMNVkiqfQbuD5S1vKL2WoG2vorzyMFcddXdJnRu3oKxIt6pA/ZOYQimh4w+DfHVhMT74J\n",
              "p8tIrVfpgDWtGW58WmgyBf+/IO2lOXZ7UJY41YsfUBSekZXr/tFp7tdncekMTCxqCiddWShRDd4Z\n",
              "w+y822aZfx7n9RDdgUDdK+seXGvTYLcs0tvYdym0YGIc1b+wfwi0QHIVPg5iSZX/TxAKo47L4MyU\n",
              "TEBtSDj4cFojvsvug7fW58XwhfFQ3CxZMCoCySJXi9XSlZXWG7OGQldNraEt6BsEun5M1B50xlI5\n",
              "mYRbA1u+ATRfdQAAAEdBn01FNEwQ/wAmjLAYNAVHT7hUJRzoABw9Y2xCAD1rKQN9pz1sj3XvaeR2\n",
              "05n3aRHwmHvz2WSj2QWiQpxVGh2D2/7GhNAu4QAAACsBn25qQ/8AVZMOhkB6je3GDnyiIz0P2vdg\n",
              "7vyMWwD5Qb+unA/RBC7hmUJvAAACWEGbc0moQWiZTAgp//7WjLAAOPBEQAOV7i09JeLvQBzCVQcb\n",
              "7lLqILlFlnfV2WDtUPuGaSMkX4laFc7SQmP2NXEe1EulLLkOWuvyjgyOK8JKIGHecIClmM/bqisI\n",
              "+vwAhlZ4q0RIUYPf9FleBNWyNPdWGSDVlpUqDhw2KYip7mHnNs5ai68danunu9lBYUC9nzoPGn+q\n",
              "/+VpvhsLbYS+U738XRM20EUg3bJ9xUqn1lJKVck3dGlENXTBa/aYYMzIFo+iQvKrWgVjudWjZzRm\n",
              "ab4wQaKH16eNhVjKwLwHNvImNb+HfXlqUc1BNHg0qYMCxwPvgAYOpyINgaoXCbai5b7cmIQS/UWh\n",
              "r0hRKjRtd0NJWrjunp5FESwy0kafJwwrTdANOOgHweZW5FKtwBau/6zjpr8miHnxLNqQ8uAS2mQr\n",
              "AqNFZtSXO6MnQl8VNEgEB+afJgUJycT1AYOwVyA5GKK7MAKD4OURk1NpZZckVI3AcYWcAsJLbZxx\n",
              "R7mIT7y7xOXuhSqP2DVtuSI/ko3/k5fLOOYSu+7MLhO1clbo+VXiHis0U1dMDxGjtDZJwY2dNgMH\n",
              "A9FMFqLWB0a8EAOHkCOEIFb464h24BbkyT0FnT8lN5k6lioOd6dBGMqif+JLpVi1HhZoI+SZ1xTU\n",
              "tsy0cS09ZrBTKLIcOCjsL90iuu5SjfgNJJUk9RN+1YMgMRN5W5sKYmFcvDrnLcDpf16gG7TEyaua\n",
              "wyT/HjEJ9rDy9RbV226jVUYOBBY/reieP+tND9CAqFBE1rretB0AkLoM+HjLQ02miXsPSAAAAFJB\n",
              "n5FFESwQ/wAmjdu0cCISn2oGhLDbQAta+k2ekq8cPOrBE9K4xG/I6ArfJyWVp6xy07M55GKs0dTz\n",
              "hoelSNz2UOzlrrQ77ud9W8rzMILEn8bUAAAAHwGfsHRD/wBVhvvmQECN7iTgJQJAiMKR4gnsianY\n",
              "H+EAAAAoAZ+yakP/AFWTDoZAeo3lo2FgnCGw3dUX2zQqvqKNh5avTGyElaY44AAAAr9Bm7dJqEFs\n",
              "mUwIJ//+tSqAAG+te7emTADon3dkWbafG4U0h4j7bIwyZuIPEKdPU+uP/1AsqU9xbJRV4xcU9Pfj\n",
              "sTKBq7/avJn1TQXOWj9M/AVE2KoVcskD4zpTi+J0v2t3lDCxq9wSWevh7vf1ICfp25tW/qJSI+CR\n",
              "ZHGH7Fbbqlo+AB8wuC94lqT8PJqEhU4ZXzKbXu6cazhJP/0eOJTRibMqCLGRyeaRLmR48Zwcplx+\n",
              "Bq2XE2zzmumjcMLWAjL6LcgdtCDhvFpQtJuQTgwRPxZBAvEJ+uLsCQMVgbEKZx1sYPjBHQ+yERkB\n",
              "IpfZHixb0kqJeezLk8kspAGIRinwaXuiayMv32slpCW5NGpi/kjoZZtyjCjDPlu3bYuaPb7UuJ3m\n",
              "ZAvEA12oBU7o2DsZXcSTmeXwcvsKM73leNqedcD0X+AhCu/tbsHVAyOutrsDopfMigN8UNgDlWhM\n",
              "4BXTKawB6dnZN6YqeTYPiEQ2l+eExmP2qcZXDogm7WtCxbnaWzi0ZjSj7DLVqgBrnoT/hL/3BhJS\n",
              "8P4TmdTt6s+QzTvHSo3SRfyhYf0zaTKfHtMu2aNNLvPI0TW9bx1f8Kvs01WDDvwenM4m7ZZWzQrM\n",
              "16pxRbg/MzQb8W/FWrb9nqlifWS3b+HXn41JPclLWpOUmKPtps6n5HPHjXAYZi8odTXLQxICORLz\n",
              "ydaXIDEWbGfZj4v/N/b4jw9TX7MKI2L7Q4+bJK7f0+neObKZ+r99ruFFO6mpr00eundC/XvNOIas\n",
              "sODPruqrSiDeq5jkqA9mODBwgoT4tIkt9/gNjUv8rJHeqQv/BSMoXnZ9FJ5N1Fh5yrLbfbIWju6g\n",
              "PzmFQ5x2ZE9T1I0Qa/Cj3uJ1WQL+O5n/BDyW6wPCCKfABKPD8ZR/4liKpXsHHh7DYDov418iBg/k\n",
              "KkukeR37mAukGYGBAAAAaUGf1UUVLBD/ACaN27RwIhKfLRjohlUtIABxfRXc6s9NV6Yvm5ysLtEr\n",
              "jvfbymbtul0tN/pdwUkjSqeTch3COSlMxy0LEu43eCBJqKJulfGDd4z1gzvkhzNBFi1ZbZ463pJA\n",
              "nT4k6/G8gQAAACsBn/R0Q/8AVYb75kBAjeZ58ejSdlwi3pveyX5D2HMMAOeC0yNq3Lx2iM+AAAAA\n",
              "HQGf9mpD/wBVkw6GQHqN8X135v84iizEkJmmrsQ9AAACXUGb+kmoQWyZTAgp//7WjLAAOT7KWiNi\n",
              "rx+NKeKSqc6wc0cN52k2+y5bBMFpWSjBU4awqwkrbJjD44j/O0MP/PPNb4G+9NuLQT1pMsYRLFnF\n",
              "TWXIpKmfYX6nTpyYEuS72a11w8Bg9blqrmKoZUtvaSszQC6spx9Z7zRicpLi6WpW5PjuutUkdFyG\n",
              "gKA7X4hX2gI3Vf7RazsHc+puN15SvNb8XYrc4h4HlmAkiaBn9vUDu362iEeDmIlaRTyrWiHBedw3\n",
              "4srOJqfoBaI+hWwAbblyWGEJePxTDoKrAOdZpjZ4A6oxi+wT6x8Mxkx3feLaY3XqWSCj0FD1Avpe\n",
              "W3IltBq3p6nMWbrF9fQ04E+V/e8Py9Ci5AnPmDxDQMaMbG0500v5TnZjMCBvT88bimyDFY4modKP\n",
              "3tmsMwBMVZUz525Q8Nd64+3nu8rfAJhGjDKISW0nA00D9nmurCswIpisJzJ2vqbD9MbLoYdV4XO1\n",
              "dqDUQWXX3vzpXIK0MyioqXDhe83R/29NuQsy1kPL+5l5lXi/dzXj0LKBphhG8t6R63gHyKN6v5Oh\n",
              "LupSmIjE2thpaLPhEH+S3wXZZhpFCBMAUrD8HqAFB2FqyFjUVwt421or8mDWiod/dbGFUvIQ7Akn\n",
              "IplJ5zJN3F5xlk3a0DhQt0fSfpGOV4MXMLPFVq4DJPacvimx/41zA8ADcYWR4WoTArnwyuEwp1dn\n",
              "Nn0QWrEgW/KYbDN7jp0lZhgB0jV2tiw9oTPmmsqyawzDJsD9aSKDA2slj4SWnkrsD2SCQ42uKoFA\n",
              "f/x/+rDXpzzLE7PTAAAALkGeGEUVLBD/ACaN27RwIhK+CXBGm/3uSf8NbfTUZnEH+fyt3DXwB0rK\n",
              "xrclQS8AAAAsAZ45akP/AFWTDoZAeo3xffuIAWPhGH3INor+kSLWnhUm8E5+uN/boKEK13UAAAJq\n",
              "QZo+SahBbJlMCCn//taMsAA5NduHBgChzKNn8B2ucEUPRiGRignjB2Kux8VrIiqPHgTwpMWDoh35\n",
              "2n1qXbdOEP2sJmZQcq6W0M4xnAQdAJaTqm78Jiq6jak/d1X+P2Fm/6qQghWC4mIdnXHc47/MqyvT\n",
              "8kMwx6Ggd6c+xC77iF1Y19UM9kAUkaI3fPMC/kxGV/k6LA66WGaItkuzhEG6sE7FxeN2WCNKP11M\n",
              "aDRiAt9vCNOgVPh3ObCbCNOTiDTKzi9oZCBNXUdAwbQq64CNkHCGEtY/uIQxyG6lAgp9zNXv7KtA\n",
              "Cg5rR0arsiVj4nY0JAX7cK+4WFPtjtD+hPltNweU4q/o7cfgeUG5eB9wAgkmVYnK8FjCxeMFdd2Q\n",
              "F33Wj3D+YYLCIoAp/+3klQkTbiZJ80qkK22bv6i/fUkRg11gjluzCdfCfIjN1YVV8g8zW8jgfhW2\n",
              "f2/51WjLfWFmpw/KrjqCAo8XIpTtup+/vPhq9crhjad4lfAt9WgTztyQslkaGc8pa10ruJgTBbPU\n",
              "PBI0FTeNcdsPzvIWcwSoZUxq9BmIL1eroes9vEUs3FCu8n4zkNgGNCaFSdmt9S1h2G9uNxUPeoco\n",
              "NxmdlbgJUjzfwytBzR8T1UyxSv+/nAVtMrfpl8RfSAzUXDqdtwcfXhHcoTEqBhYqQ/5/B04Cn8GF\n",
              "XF7+Pc2vfDoqhQT4dlQEbhTBmQL6Yhyv4zGpDtrn5DiJ59N4J6vHPzZMXBXoYRn92Q7sWne6isGf\n",
              "FnBEnf2vRCt0l4rsuTlEaKh0A4b2P7OUYScrdlc4POKlZbfhit/42oxjX8qDGeygAAAAN0GeXEUV\n",
              "LBD/ACaN27RwIhK975gjkZlwiI/VnbHIABYeApBNWhnKeO6OBLcVQEU5L9aW0FEu7KkAAAAiAZ57\n",
              "dEP/AFWG++ZAQJHEX9t9+31IdR4d7zzsX4A4AD6PmQAAACUBnn1qQ/8AVZMOhkB6kb9Aj5LL/Lu4\n",
              "KN38y8+OqjE5EYvegE3AAAACj0GaYkmoQWyZTAgp//7WjLAAOTXbhwYATGDe/6M4E7ukg4gzB7wx\n",
              "QfBW7cJjTMUko1vo9kRH8gbst9gJJZvxzZ/t9/Bdc3faTvO6AQyWeBJ2H0NBbhtzQtqExoTmF+gV\n",
              "+rBVW98RS+Dl8nEvJnDaCBCGpVivbkk8aF2d+YsPgpCCiNGojwO+prBZlRwIzB5aCy4W1GMV7ueN\n",
              "z/hoTVBSsuokbMYsExB1pAn/dgKd3toWlLWquWiadHiEhoBDh3D3YoMmo5YqQgkaYrL/5DyIcmKX\n",
              "VIzVIW6DDE+a2rvLhYzQKhseWIiK/NUvGE3KzzcfhJccRAnPzszIMfIyJk2EVlH/f+gxWOcGHrp0\n",
              "cHVrWwsZkkgz1i1Cu0goNHF2Gd6lpLjMhfkfAaqou6F7+d4tPbYkbbr9YL3wd2C9bcNUDUz9th3K\n",
              "Z9PEL/ZdZj9rKFXH4ShXbW8y4+dKjuaWK6wPWPtW/UnooAGyITrK2ohrZj6fw4FGs+N355OZfenA\n",
              "KCNr1rWrTwWXqn8/aBBOCc1JpqAXmPKU+GM5OqAVdq180DqM+CucUnGBLqudaQB9xuI0oJ0J0gqK\n",
              "hdj8jZ3MItFf71ZlivAwSvraBPI7c26EtyTT9YE6rKCbAbRmeOQJvAMiPaIeKEf8UPgU/CC3bByU\n",
              "NxWcIRnGvgt6Ap1oskpUT22yizqlH+kq/LHRd7XFg1SIgr5qtKS84WW+Ac72JV51nvwO+f1hpTfJ\n",
              "3Ci4bxV+T2QnBtFBzAMp3gE1go04HUuCPGb+mOb8mrwU+PzQBPDZrWR2HedvRx0wrenlfpm1F0mf\n",
              "k8aGymkNtvBTzwS7ugFFtD6ug4a6r6c41oSrEvBrOlbZd+zsajoeu9mV8fRgWr0AAABHQZ6ARRUs\n",
              "EP8AJo3btHAiEr33mAzPAb/NDdClGoAV3RbPXaohfpHgKAkK76IgSl6qcPb8NTBZ0+at0Wznrw+/\n",
              "pW7SRJhGd0EAAAA0AZ6/dEP/AFWG++ZAQJG9H5rpQFbEIaWgtXrjDvOS9aErzdT8kQM7t2yQef7u\n",
              "JsL/ur7I+AAAAC4BnqFqQ/8AVZMOhkB6jfFce7wZ5TS9WNH/3TAKUFOYtv0PM3KZlEAciW9NsOOB\n",
              "AAACBUGapkmoQWyZTAgp//7WjLAAOTXjpZgBKXgl6DdKfp9Tz0WU732ZnqA6STOpWeaeEyzdkApc\n",
              "lEqzTH/XNx0mVfBNuHz9fuTMvD/1jNvMX79RIVn3ESiQD0z26+CVn8tE1RIbNsbyTYnot5XHxZsR\n",
              "AEkzte+XqTjvJoayy+n1WR/s5/ssBK/y2mensXZA5S6p/SIvEj6QSGQdGkAmJTZAo+yNeZpUvp8f\n",
              "H9Xd06IRND1GRQRTljABhUpjuA8w6NeJyvRokdUHC+MiOkxCHdbB95JJ4hsvxOJrSSqcFZNRTtYb\n",
              "1cIxklmtLaLkwJKvxcQZtONvBI2ykjf+WVeetEKvAGCUGNdLP0ZVz7qWtpPxt71gisd8phLwbtzq\n",
              "AHAkqVSLGnhNVLvzxMLBmVAhyaHeh0MeVmvPI74bGdLMm8aycxM0VM0QIuLI5/79sdj8cza2lRuF\n",
              "amBYxMNAAPGu1GN1rDoB1KgX+FYNOvAz/gOR2a9nHrz8cb8qkOiEkcAz9uRdnHoVKmqaJYm06MlL\n",
              "3iGmoaiI7SDmJi5M77ZF22L8FvPpYycWgUHEGsappiS3fws8XLZngh2/QtmauVZ09VTqZNpRBn+r\n",
              "rtFuUKXn/3WsD8USm3L+j805JuHZrgZ5cx59Igs28NoFzxf49UeILoSKlqnIfNXlVpbMj0K7S8iX\n",
              "UcgZsFZmr/AAAABhQZ7ERRUsEP8AJo3btHAiEr3zzHSxmkzooAaRAAIjpKM+YAmJZkozJEM8UfBS\n",
              "d5Te6HhxawDc9g8X6yabC/64SGk5f0XBv+Vk1WW5IhHv4CbJDVK7uAotkQz30XMJld244QAAACcB\n",
              "nuN0Q/8AVYb75kBAi/zk9o8NJ98Z6XqqpPSXs0AORhGS84jCEYEAAAA7AZ7lakP/AFWTDoZAeo3U\n",
              "C9o/37dUguMzLiiPHWWCzofx2xOvPwraGoZB5QAFdSWdykVZnyS4cMLGakEAAAKCQZrqSahBbJlM\n",
              "CCn//taMsAN5uKYgOan+xfqRi8GacOy+3Ao8aSE1q+hZ7OtB/no1eL2Pcy3Km4HRhKdQl0xSTxD/\n",
              "59zxhW1yyLv/X/f5UUNzOdvcVIv3Ir1IYputuoXTDhxM2Pc0k+3k85HxqbQbIUXGDQ01xINmLh4E\n",
              "nqPseGGdSRjkwK4zNJd/ljOtxNgptKB0MHhsIs9qWYbADtDnZatVNVCRW2V9+u564UwcS2xmgwDC\n",
              "dl9UqYiuO6zQt2MSWma5TTLfJ3OJB+eeTJr7m4MGjt265onilyC7s51sNr24XmZxsUgIsyklniNs\n",
              "NVHJ2G6BTJKZdqnwlxY32cmWa04irhTEH3wUwrp/3sG6LFpTxWeTG0xQxzcq8dLOfR5b2j5kLAZw\n",
              "f07hH8Y2mioEmMZ1KGxDXPGmlUSj8ry27Ymysbr+KZQ8QDxrKrhH5ensM5eyWv+HLMKiEg2HZ5Gz\n",
              "O/yDE7LGQBh88lPwHdRacZebAKJp9QmDsY+h3cSvuOojLUQYcL/w19qIfLh7vOxo97Mn/XkpmGU8\n",
              "GAmYaYFramiHzYyrxognvWnjm4e9bJfXA7ulzls0511IPxSCW9Kkh6GMBJvcLu2d74hjxjjZ8SvX\n",
              "rcDBz9IgjA5tYyUK5gdx0j1moemjfu8f/+HbOFxgrGHq5I4HCIjlMFu6GwOBRbob7dT6a0iPzRM/\n",
              "Hs8dsASQVCrUaukKGo/X04I03tukG5bkKkHJa9LGVDxtSJymVzGL9HGt0lwKvLe40BbbS3+NLV6O\n",
              "rYeia+wIxzOKG1lT/fvBalsMomqOLQjj4DHnKQjP4N6GYEQoUhxNsXlk2b+iKQOpEu3fhGbQlqFU\n",
              "wziuM8mpAAAAN0GfCEUVLBD/ACaN27RwIhK97Fge4zE8Yvi1hrgi5Hw8zQ2saNZQo1spgcm0mvyN\n",
              "1Uf+sr+ISsAAAAAQAZ8ndEP/AFWG++ZAQIohEwAAAEYBnylqQ/8AVZMOhkB6kb9AGI+rCU/BUmaf\n",
              "U8jmC8W6nhR4ALjwhh9ot5duqkCIG6N9EhF9vBJDSCyYbedkjVfWY59F8xsxAAACu0GbLkmoQWyZ\n",
              "TAgp//7WjLADebimIFu8eLKZcHha+RvoM9ty6Au6X61/vmifUf332OKT6OkBTa5Mh6p6xFFuz/2h\n",
              "IRp8d8GGfijTlw/2wrRQbbbHDStmXa30VCHVQwUi9zY//YZTFfC1b8Uo+Gcp1Mf7AkyYxRo8YVPQ\n",
              "JUx0MiX0uQdBjJJ90uSb+jnEA+YBruVH4PSOBoxvApuuuh410Mg8gb/5YBuH2YpzVMJJvi8DLT4J\n",
              "If7glYg3NFCPEUtnMNw5Gs7pd4JpedmT0dQylDKnYnqBy/HW/KLx1MWiyz32nKQaDOyh9XTvP0OS\n",
              "np8ifU8VuoQ2V97cBX+X+3g6vsBIn36jK6Fb5OZKWN3lchc6+mfToWdVGlchNrTAtuFgPxtr1sRF\n",
              "PCCbWzL8nPHyEBd5CAc1Gein6Bc8RhoxhYtxmi8K3q/Y7STXd575/q6ePWMVe1mwiOwp25bRBHXw\n",
              "4pj+NqY7fkQc8SAqNxab8S9CPj8nZoSte1wjL/5m5QmNNo7kSqp4KikyZ/X7hUwL4eMJv93ez49N\n",
              "KGpLwHJixMtNQoLcRGquerS3W8WRBKMIE4MmDiL4NpBJWpJuIeO0jPRilws+VluTnvEsgB0+6Imf\n",
              "j60Zq+L6iPd5p/O4zfITBH7cXixGAv01Ido/Lj98uheq/5B0ilARbr0gmSvPbW6V/NutCFPAsPfV\n",
              "f0AidjU9z08gJGhCiFZiQd4m3+OEVOsuTajjXwYlKTqFPqnlvOpMo0tIRgCR3PRordy6n5NQ/q2A\n",
              "unPcclx353Wnghh340xuNtatL5ziPXDF5UvooQZW0VKs9CCR/Hj9WWLxSsxHr5CAj3g0vzF3Ejyf\n",
              "wQDx8qEqqNYP3d4MabIKnSQfbRUdGbcbqa7zCUDth4GF1qaFTH/+IrQLYqzZPcuCr+wrf7ssdIcP\n",
              "Elflh37L4AAAAEFBn0xFFSwQ/wAmjdu0cCISvcuP8nGMHhQzc732R8RMiqh0A+dfbP7sWXgCzW3N\n",
              "lBfrNZFKk0F+fIJEfIsEU5ULKAAAACsBn2t0Q/8AVYb75kBAj4xzMTAUJECqL+xrZkOgxwAp6CMm\n",
              "1fisszeDSnkzAAAAPwGfbWpD/wBVkw6GQHqRvoEstuJWY2maAAW0aFN7zpqYnDIq3aOVJ3+XyafG\n",
              "mpYn2aFpHU3OwQAhLMXIAh/kHQAAAo9Bm3JJqEFsmUwIKf/+1oywA3m4piCdisUjBM4MFf4D4b7G\n",
              "KFhiNYrZn8/R02W+BjXPekEfYx+7XPIpPFlwug6hBGlLh3y9geGB5YG2dA8LTaxVPd8wT89ZGj8t\n",
              "V6ZJjpr2tNfdfC/AKxDCxoZjh3G6NDg5OC1S3qHMNntM2wsAbIdW4xe7w09lrA7JmqgVqQvyLbC+\n",
              "2We/42QjPvNgY22qttjsm3NrAcNo8YR5V2W8MAEHm93WbpguQhIgE6okK57+3lsga2TNJE3B7NET\n",
              "LeJGm6TKCA4+Oq0oZr8Bb/tPPdW1ijM9Ix9Po0OHZaQPg6TcIqljs3Ix0QI4yf94u9gRsFjah8pH\n",
              "ElB55+Q9otZTOEQlEcUyV1rXIPJDT8ufHK5fEOxhLhag/56bj3DInNuPovMIXO/DBPx5t5yWcZh+\n",
              "ek/FGvyBJqfHLgvZmVG2qRR+REK8BdqLnNf5o5XvO7r2ckWsYxquHYWVDBh24YiSOzyCZJwZXSsk\n",
              "/g2XKUNOMyviPj951GIsi4QDFpAud2axq3BbiPndf6Azjzrmfq9Ti9JHsa+0mqofq4Medn2hvFuw\n",
              "4J9yzMRsgBaKUH5bDjtpLpW/4yugIJXx679CVeFOwb+8LuIyDxfbtPAyCxWVl/j1HSgPqTSKPVZg\n",
              "2BQlcLF3qW7h3y6b37mcCexPI2gCSD8iiKVk0popR3pLTg1LY67FSuwtO49Q0zYxAkhfuy1oIhI1\n",
              "Vx1+IhJMjhk7YxmHBYaMP+cW4mWzW4KYQcuYCSxQhnmpgOeJ8CgLWR+yANMQPSzXShvMbS4yCVNu\n",
              "4sko4hgSQkwYY8avz8bse5ItX4/On/3/3Vj8yeNcSrsItqORw6g1gdLrCiBIqWDoEN6BAAAAWUGf\n",
              "kEUVLBD/ACaN27RwIhK9WjYVYng4AAucCDMx7upM/xkYCkVB9vkoETejTrkUKYnrBlUJvlLFTqDj\n",
              "Rb9g0zrrUBOK2oFdJDQEcCjHDWgJ5rl2pjMnLiygAAAANgGfr3RD/wBVhvvmQECRvmDoxzGhb9f0\n",
              "03YfuybufafYkAAccEUAAAMAAxUTWJcI5hi59FqFNAAAADEBn7FqQ/8AVZMOhkB6kb7j3vARqIO+\n",
              "mdcAAHHZ5thdSGWGUl3+ATJla+O374LPin+BAAACQUGbtkmoQWyZTAgp//7WjLAAORrsDMAAdGWh\n",
              "GMq9/nZLkhVP+a+slnA1pu6IcVsyaL8zIJG5DFDTDViB47msqLI37QZE4gLdjkscO19wen7yOfi7\n",
              "XpMxCsyXTBB/HhJ9NgiLebhCsoBopOzoGH/ZaWp7vO9tCLVe/iH/nTNEFMsIipiQwqwYsYzjfTg+\n",
              "F2bgOC85hRVmd6Q5NA2tgKxbu37HsabEEg3zoHJjX5GEkNtLy2QE0Uol/PKl3hhgSVFXD3yMw23g\n",
              "wFVzKZ6v/HRcoFj73alrYJVzIs6TnJpHWz1t3wldbGkHYuxXdY3X8lldDUV8eXpVvVuRZn8hqA18\n",
              "90Z7S3Lb+2khBT0rFO2psZQCMiEk6DQToFXNtskw5ST+P9jGLX3BshYB+tsxdYaqpC9eysc7a15+\n",
              "sh8W08BI9nDpzw4+cT59CiT14jq+EhcJowuF7j9PZABN0v5JK5skcEP03xbHSNOzKvcxrr8q5RCl\n",
              "uJNhvx/9Iy7helTQ+AVY4TnNp+RiFgKsUsk0+WZHEvY0CfcWdNBBw4hcDpiCccWuywBjAGUlpIrW\n",
              "rigNpMRnfkGUOsrZMAhqBOXProV88GDYWoqQbS+8Fl6KVGJzMbOwHOjNilIjDGI06KL0Fjz1pOMF\n",
              "6vdO6NCZuGmv0IjecKgV+DowQGXfltll9TbgPc+UMb8ztyxHKpEj9aT2IqKjb+dF/X/Q/wz8+PRD\n",
              "uO4klFTMD7qVuY07M9+EIZizsjkJ1dw8cIrk/6bMabgBjqTFg44AAABHQZ/URRUsEP8AJo3btHAi\n",
              "Er3V6QnDAq7RSqFmx8gJEMVHR9Qu69/ACAr5ITgQCUObPLLq3Utjo6Lsu7Hreq9rVbJHOhMWFP8A\n",
              "AAA3AZ/zdEP/AFWG++ZAQJG0hqdcBXbSaO0zjqEcvMfYVgfenR9mMDllhWnoJRgwqPY1POPN1KcP\n",
              "8QAAABoBn/VqQ/8AVZMOhkB6iw5pE/AbSFbZ0dNPIwAAAl9Bm/pJqEFsmUwIKf/+1oywADka8IaQ\n",
              "AUwMbPC8Jv4BCh6igcJKPnBbtxuQSpHoiUOWRf1YgkhdZAepm62enQKJyKPiRML698RokDwZFRXj\n",
              "ptbxJD1UFE+LmnXnsoZG8dn1wTtekKhX7Y9mnWO4kxh48Roi3sTzdbP+B6Hm5b/FGCflEhD2JUVd\n",
              "uA+eFD/EbeK0S88lIpBCIsXsyl5uZjDlU4S8hA+0ESx4V7qCjL+Qfprm+dyyTaEQHRlOOvdq/opR\n",
              "xXs8GmQwjwEpM1+B+QxIq7uIlta5oR1difxSqxrk/cAkfo3NjP8lhod/oHXC73fgUntFSWvtrD8t\n",
              "jh5iihTemEZUaWw3ssvXsaRBFkYlYfQAWuQ+rhc1UEaSeFhubFWmRTD9alM8oNtoNOSVVy2Ajn4B\n",
              "o3vnBVxt+0/MWkfUZ0qXKi6Xu7TVcFCVdtXLUqasyliqhbuvjnF1q9UWLb6tl1ye8XFXAz2wvIbF\n",
              "/hr1r7PccJEHMglAFrv45gCmnSZuBPc67VgP6CXDLoIjloDglraXQd6XvQ/zGrWWanFx9rb7GgI8\n",
              "onXUo2OUDXs1BcogRlIReieT2a0X35MvRiPbeAin7BuGcY3L4qGN+lcKMEOT4D0Czmqp+EKIIoyF\n",
              "ZA7LS6osHlGIrt3kqcsxG90VpRjsZwdUgkOSbKKc979w0GQjyTHbSL/uhvAqw1oEGrhH6pcvrM3M\n",
              "mlpFBmWJ9n8TACj+v6xJ62Tu0n7c65KldUhziVOLd2q36K5zoRZVbV3WMHeWCu1AA9lNaavasktD\n",
              "qxIxv1nobIzen+7L3lfBAAAAOkGeGEUVLBD/ACaN27RwIhK94L5ibYJXHZ8/ey3CsVxzVgAZ1kzS\n",
              "CDEbAcqEQ1ZSSr+nMa7RyFEMB3UAAABsAZ43dEP/AFWG++ZAQJHEXikBAcloVwBof10BiTOkZALy\n",
              "trthAYKtpi28wawAWlAp0JW6ZZgAx+UoLPhTlXw8ssMlTkS5S5TOdy1E9VQx7YN1U4xcwP9u/myT\n",
              "+zbNbN30g4CR2xoKafn9YhFwAAAAcgGeOWpD/wBVkw6GQHqRq0HQiBN1yXe+5u47Sr0cG7LMO+mP\n",
              "2eJJvzA1sQjeK/XGoEY+ACseScAmVHqPVdWBcpI/HDVNsZj8z8V4ahQ2vV1JCfIwK5tu62b17pHL\n",
              "EEp+Sw7hNe1H+uqj97r5jRb+qg1mzQAAAsBBmj5JqEFsmUwIJ//+tSqAAN75dNSAA3d8m/f8HEnd\n",
              "PbPdF58+4agun4P4Sj/FGQigI0bhMJskdcKrbkjiPMvtlh4naIQAMb/T5sQr3TeynGrcFFpPjjiN\n",
              "mCdALUzNZb/hE5o6vHcUgKc0nbjrLOunGS/o+NwCcviu95c+MBITXqh/5PuYpyepfsjFHDhhXsuC\n",
              "8guNjDD7HbZO8jtdzNZ4nUW7yJqi9+0ZMJJbLmJkuEKw9cAPUT5KHx46SHRZCEavp27rPdouTmHU\n",
              "Ii32Kj89cpi2noq3ynAj847YJm1BhVT9uWVdkxY+7MUFhMhhZIfxz75XS1GeWoPUs18YF1wbBAZ8\n",
              "VaoTfrWaZRRTKq8lvyDk38tkFarHoC3gJFaW5PjOynXRUwWQYYCRKPXzKgNUSKILJg3E8nhF3Igx\n",
              "VtRSXSz/V9SOq5yl/hNBxSoBhC3Uc6b9IyvGjpqilrDP74ylRc/qw7+gMaLzeGsv+uy1eq+gqxTi\n",
              "3leze+HxlJ5d2pJhT9HzsZW7XTRcVc//ePq5y3ikHuSYDE/wEEKiWEnfvWpTm0gIIh3drVo/CgL7\n",
              "TzEYYPA1Z3cjRVF4djr+2l1iddW7HJgA2hMcMNxfNEzqG4QxMOGodgcTQ/GfFwTGcUlxWRZZCaiX\n",
              "ZqXZtiArBJOCoA1VBt59VSAo59uDmBql+x4cUCD+9wf2irTEoQGnd3pkKC+yTkl4iHTNluhyfOcb\n",
              "Wz7fXBrLMzoW9FhYzqOBJzIJvHFR/XlHCYz5+Y+ALoLmQi1hERczsaIohcHQ0mMsr6l/WzHt0CMy\n",
              "74G2tFTg36x6PScJ8bsvtYjBkSiNPq/w0cINe/cx6ZzVSy09mJ9zSAdavaVXMVEsQoQZq/0TWN2O\n",
              "/eycHWLj/0WgT82Yw6w28Cl6Eh+IZXltacq/y0jb6sni+LGXBBAldRuUe5lrQAAAADdBnlxFFSwQ\n",
              "/wAmjdu0cCISjHJmCJItRsgBFcfzo5Pf3WuAaKWeUwJb2Vm+To27eFEKwGwI+zeZAAAATAGee3RD\n",
              "/wBVhvvmQECRxF4pDuAoLDP/IQtHq9KzOVvIXC7sFaHZmH3kABrF2LWBCNRJ2LJMmGvKn/RnOGTV\n",
              "NrqB60E/HVjUUtewg4EAAAAsAZ59akP/AFWTDoZAeo+N6bz2SgyBnNVpsbUCFal2C6E04X2d92sO\n",
              "S9NYl4AAAAI7QZphSahBbJlMCCn//taMsAA5GvCA6oAg8MdVw0g/PFRU3EYvMCOeLTuGmaQqp6vR\n",
              "8YRf5IGKyoTjbyRfhgLAvDClijaFwZ4KrA+7UVsEeYMxPTxFLH6YOww1L1r4PRLh90CmgYV53QNp\n",
              "kD5TNt59MI9XP4qTGy4gjNAaoi0B21n3LyQ4fjft5Uj46Ua5pa7iCDmtFlSik+Jcid2QuZA7hPzM\n",
              "ez+NGZdKtbxdx3jZywBPvVfobjv9DobpB6ixAaoD+HNeoNY/b5cVj6kQr4Vc4xQQgzRhSEk5PBDm\n",
              "KzT+/ileHVCBZ+3is3cBpQY5t6C001QDZGat1MFrMNeZHhaZjphv2dtx71ao2QfCNoBsq+X9OgN0\n",
              "SzujsWiFiD2HyteOcAPEP55/akIanAH//6DvXDYrlx5HApY7jQDyV1Y2wnvVKEaQz8DT811skT4L\n",
              "q/skkl/9OhKKV2iNCEZ6pVdfsMk/Vv7KMsbDFtfNmKPDxUTv0K/QoXiIDkNUivi5UxnE/o4BRxKS\n",
              "xOMHM1qIQ9BBY9ifJXDuzBR2wlge3hdSz2YTF+9y3J/C2fchHD/eRpCxjG8cIioqBsRpx57QYYxO\n",
              "DGVqVHqxKITdcy/6A+X1WbLb9pPPmeWd4zCbhCr9rsSIH1XS+OYHpgSOaQDKbfIkR1el/KOxaOZc\n",
              "KI0EzGfi8dRDD48t6azaKPFLRQi/hUILLrdSAJiQs7FGnSBN1aYn1YzY9zOC/YStaDbw3jf2XAB0\n",
              "O1kKzhYDLv/F3AAAADdBnp9FFSwQ/wAmjdu0cCISj/BunZwfy72RS7gACHEcVp7K8+iP5JuYavup\n",
              "p7T36wNoaZaPxgb1AAAANwGeoGpD/wBVkw6GQHqL/KEXfJAulAqFlFxFMw+ypluqoBQGL2C1UwAh\n",
              "6xqM4emhMwqKuBU0rmAAAAJLQZqlSahBbJlMCCn//taMsADjwREADlp+4VRnTOTYl4u3J/H0yCSj\n",
              "GTjLAI4goaL+VXGtLFuHx2m7gs4SRu8vOHz6cad8PMs/i9wS7vJmwGRnS6UH3dOvKoXxkbEqA2Vw\n",
              "hhEDkOyUHBKCtdHjaYrV+GNDw4tkFWtSNYkORJEP9u83pzEx2se+Y8gPMQlkbxXuKVbE4xF3wtg2\n",
              "bG/WERRhSSi5rbPGn26vKFtXJVP8RhIM2GJKeqUnrS8W+VLJwpYEyNjKoIODaSyOjAmSUvARnEuq\n",
              "McdeYoDQkGIuEAQgbrpvFZ4nnNTcjBguS8KCTOOuJbbNp6Qmgf7ktHMlmzmg8qUOq06UZxhNC3ik\n",
              "cwvaA4OD6eovTN+AGc7CBsvMzQj081dv1eVIISPZ2mdlvMp9MTKJ7XonPV4vLlorkYI6qBjHJ63C\n",
              "m3hmjDk2MRsAXAU1CJOg5zMqkhDKNdCCyfZV01lDvc1CcdGfEnQ4xg+DYpDGaURspM1PGoukTg+T\n",
              "68VA+ZtSdVmGsOwm0Hqbn4BRCpQ6IkM+RSNr9yObmiCU4Cp4B/Qxm6NGzxkhrOT8wbhiZflF18r0\n",
              "2IlgRybiVZA90MH64iynySv0GDlUPSosZwvnpspMbb44YaMBY0d8AL9W6QkBkMGsSf6SUEaO4dxf\n",
              "/n+Hk9676ibckcq1m50yIZ8oAaS1G4OMyJtp3C07H+yBYWqfcADNih0v6TwITBSpLaV/6//8pZH5\n",
              "81j/5v+DMJ1Oydr9PXGWDUJSPZR1FpVbtBPtQr0RybUKJuEAAAAtQZ7DRRUsEP8AJo3btHAiFDkq\n",
              "EvnciR2TULjW+pFHj9gADd8ya6t59kgBGFtAAAAAHAGe4nRD/wBVhvvmQEDB5+0ERI3dfw2ZrhxQ\n",
              "44EAAAAuAZ7kakP/AFWTDoZAesIfdmk+6hcmRhJPa2euwMnBURNOqaAEQkRCoGj0Sq2DuwAAAglB\n",
              "mulJqEFsmUwIKf/+1oywAOPBEQAOWPrhVGTyrFFG/UWkQtF9wpAYsbu58No8zWGEzDIABNpVDk/O\n",
              "ZAve/CEhpnTQdK/uKy6qoMJkNpfSjm7RHZEzORdM2hrGAdeobIhEUzIzm7Wy6hb6wveBqonS7eCx\n",
              "ft5vRiAlrK732ceD/jbs+OCBy+fco9wgwhTSNY+rOd+19Krok8jenIbsErmNnh7VT135Ev4F1NHT\n",
              "Vi9qzIk6VQFlDFrNtXtHAMX56wtsCmQiU7PXnv6cwpOCHJ9UAca1UpGBktF4CyOLaazKomtDcKm/\n",
              "UXEacj5nBE4go1oFRzBIJOCHJSsOrIPl3w+rO0y4Ngj9llcnI+YpF+Alm6vTYp0cEuEv2cddlWmn\n",
              "8NlB4qAo3SBfTVibiiU2zeFDSAlW3bwLUpmOYU4rky2+PfLUZracQkdTcHf4CxjOb8OpjsnY0ygA\n",
              "oDHR6rl+3BN0N+Bze+eP76cEucZk941YCZIo5vFYjkK8VyfLqVtCiFVLl4XFsUQyVToSg217soMP\n",
              "ttVSwv1nTwe6Hvmvy0WxkCoth/jNojml5ll0fCJyZuqRBJt0+Tzr1LHKC1JYQuiHKPfNmcbYrAuJ\n",
              "NxE4pbcECcwUe2rfPtKKLvMeaM1JSYNGicto0NMDvrdNHASqHF3U3Mx4chIKe4f5B5eKL56kDizZ\n",
              "M0ufucBvQQAAAClBnwdFFSwQ/wAmjdu0cCIUPoUlRceIUkcn0opNAB6bejTdi+5f8+fDfwAAABsB\n",
              "nyZ0Q/8AVYb75kBAi/4Y8TitpcvfIbjAjCgAAAAkAZ8oakP/AFWTDoZAepsc2pCItamPYrh9NSO1\n",
              "O3OABAqZ2HdgAAACREGbLUmoQWyZTAgp//7WjLAAcePBmWANxrK+lNInHAYq3KHk+N0ZdohaXhfa\n",
              "g2VwiS5WYOfB8R8eMhhVUXzaZkq4hDn8nGQL9yQMxja7XIrezPlBBX/yBvBhFoacsTpN+CpGqFmG\n",
              "VUte3bEbvQXeZJcE9TFfebH3NQsJvDBG2addpzDFxm2bpihT/kR1XRHfXNbmsVaDZamKWWMpiJ/I\n",
              "pTNQxI18cIMnDRRBvArHUPXNowqRFiq/msWlketiAPdEVVLEVU5eYAP2vru9EXzypxb1gl981mAM\n",
              "Lpufw7khf8bMB0T1AeOQOey6SHPA2njj66TyUwVi77GQt1SKsyGi62lei/FOzM5OU+Y0gGMZpN79\n",
              "PE4ys3BYa/Jb7Vm6w1sSG6FkeM6T4C8C3ziHjfON3LrAImWz3O24MvHHHPP7n6VNaobMKko2RRei\n",
              "IOx6TJCpAu2V+J08939DZb70utwDbkXMrmjQbzTs0EiVHRZXN7kwaQMjrRpwhiXZcIuI7GrXjLA3\n",
              "QnhxefXlFBmSvLBi4Jgm8h5wKJv5pI3XIzhYMuhJMUAAX8Beq83eMYyEgFhKQxQU7f5LJaT8+0Zj\n",
              "1EvAMZw8/ky57oTvli8CcCnOOKZ+KSR+0qtOfyBYy1JviVuF42SC+nrIjy6tpLHY+hBCalsVELz/\n",
              "UazEeaOK9nD1s4upy3VhFJxTsLb7QAjxnq50jHSkDuO+0IfF2q5OxuD0ikawwaVe7jR5isGr4dwQ\n",
              "iHDdeE1/5br5mq9CL4B6bKrFv/7UHhEAAABBQZ9LRRUsEP8AJo3btHAiFD6FJMqgGuU9C7IohGYh\n",
              "3HRd8piyOmiH9y7CXZssqgP8pFJ3JCvaT+lABx7GUnaAKSAAAAAjAZ9qdEP/AFWG++ZAQJsJj0Ji\n",
              "PZL/ldwHQx+9nhXb/iUYBdwAAABMAZ9sakP/AFWTDoZAeryzXvtFgfB4ReANsav9kv9VWylNoFKF\n",
              "BAm0naEfKmLl2tolq20K1lNDiqHd3JZjZl2eBs3kUv6Fm/y8Wvwz4QAAAi5Bm3FJqEFsmUwIJ//+\n",
              "tSqADUbR8AJc3A1WOMhVvYS/b1zg4xdZIhRVL2Oks6foq3pxIjLIHdhYJVavXxUWS2QXV4c9T7Ld\n",
              "xFCsnb1YMt1easKUE30koNNWVrx2fEqm7StGnBoPFFKRzkBCpETaQdVxywrb+2VmRlyjmuTYdGs0\n",
              "nXbUDKHNgZ1GVyaqs8iSM9Kf6cQ+macXkrYOQa5n3NhlqqK5tTfmgVH/UceJO39/VHq6KIFM6MVZ\n",
              "puqMT9GuZOzXK2R9og+5JbY2R6o/FYDc+RYADWSEfO95EacjfDbaR7cFNCZ62uZC9RjBduJ9SHCN\n",
              "TJdj5XANr308vlxHx7bIC9kcbHt3+GdQuYCyKIDd75qPIvG2V7MYddpzfgyxDOIfN2PUkfiqHrQO\n",
              "HIJs53a13MMgWyAhgVhYF2RpBpsxHtcFKUL2AD2N84Erfpeuc0SGMtDyHJ9tGP+HDEsNxJIRU7uS\n",
              "4QC7LIbQeC8P47b6B/bvQSKhtIGwz8/7lgQFqg0mXWnsIqdOzxJH6hyEGjB8vIkuhOnvA0TuGOJl\n",
              "W73l9cqTADylZngUeOF7F1qKdKbJyeojhhFwt2aeuuTUZZTyYXC4heyxbRsKHAobj1B3+kHC9YSi\n",
              "3eLmcjjD1ulGx1kHlJSVERlIQ/Zym+lV8Pi2OT7lIPwqnjzEOFJvBruZbcF/X89/0buhZumklj5f\n",
              "hgWjSUb9b50c2/4Ah+mT7Qkb9twujSNXjIjYjxW7GrEAAAA3QZ+PRRUsEP8AJo3btHAiFEA3Q0+Z\n",
              "Mzo2nX8rhLAYY5Z3336Ij9d0oMgER35R4YtDM9DPmeIMCQAAACcBn650Q/8AVYb75kBAwefsvPIn\n",
              "D3gDlf24oscELrzdnu/z581/0S8AAAAxAZ+wakP/AFWTDoZAesH6UogTpUeJAqSdNXfyz5G2SI4I\n",
              "TXmcpUoaYdoLPsUqpaQ1IAAAAeZBm7VJqEFsmUwIJ//+tSqAAb6wvyiABwuKdyHHfaTHYfImmiBV\n",
              "QJzYT6F5sypp+GXhPChDvkHOfysIc6YmmX0KjDqhW1LLIPVnqKBH1Ue98WgyVYbfxu0JA9HA8Ou3\n",
              "bvGT7IFoZNpsEM3CdfAp3MW4GXR6hbKQTLuVXE0QNu8sX5dR9ZdzWtjgBojFDKQShK6ceSiP01Os\n",
              "FNw5tJ4+luKLXkLnpAyePTVqDKw72kItnq7b9kXeL2g1YEMLJNJuoyPl0Te0dGct/vVG4Fbi8FKn\n",
              "p1noFFG4a7J7imsOTN6YNciSxiTTvmbN/FctWpJT/vJw/CcnU2H55Sqs3diL+XQyQDTkRhWMNAat\n",
              "geR6aIr618RrDs4kaxVQJvR0UfIIEUqmEBcyVW0In+IBt/22sgBH85D5McSwd+RWcB/Tvx3Av7/2\n",
              "o9KKxaGmTDugdde4//70HV22vuWdLi9k/PSJ+muAaQtGX8iA84cpKxvCfzy7pBwDQwsWMrfmeDB7\n",
              "OQFogGJgKQRbkCobw280jjfOvRdJCyUHx9Zjqv8H6KG764r+2iKwJ7AWJVb5I5oOvXZLU9MX1Eee\n",
              "YtIbuNuDUksMeQi6CnOfqupSZ5+FkCu3PsZoJ5D2JaNiiNbWKPWYLwpNAmWKH0nPFlEAAAAsQZ/T\n",
              "RRUsEP8AJo3btHAiFD46LGWh43eTM3iZaBjNm0SEUOy53bBkBjH8E7AAAAAeAZ/ydEP/AFWG++ZA\n",
              "QLxmFmDLAryEqjRyuhFiNBBwAAAAJwGf9GpD/wBVkw6GQHq8s177RBhcv6C2mOlP1C/yt3fZoFCa\n",
              "WpjB3QAAAYhBm/lJqEFsmUwIJ//+tSqAAb6wvpQAE8IVd9bioOdI00P24CnmArlRpRWVZRATbPSh\n",
              "zEBHy5vfmDWQR/lR2mZH9eDvv5QRgOR65EkQI2AF6FnPkbaZlOWB/J81cUUZBM2jKp9NB4niSx5M\n",
              "cBEXHI8t4qNnMpcQE/Itr47Dvl7wPwi3ink2zNdZfX4OXIJJ9TDHbg48wbtP4mDBzBdKHTABfCw9\n",
              "muD4Km/H32W9D+/BaMwUxTdXd+juSKKc3yE9ObXl5wC8wLFK9KjixOGOM6GhihQKje745Bh2Mdyg\n",
              "ehs+KiUKKqVMznMTDzoT7cd3BaeViS4WIvjw+3btXOADZP+d0xzr9tHPWK4KqZatrOXNWjDsWSik\n",
              "5HKlORPLoH4KYOGEIEYFAROR4MYjoXuUxHe9x3btf9qJ7mJEln6Mv9ox6xq/d73dF6tUn9lG8kzn\n",
              "8VYdRYqx5ET9G/2p2x1HcXYhwNADOr2b9mEXLOL641ad3mPMulOEnxVCssxmt+mt7WN+3W/8xZL4\n",
              "MAAAACdBnhdFFSwQ/wAmjdu0cCIUFQyVRcELMGjOxfVhYCDJO33cBivgNSEAAAAtAZ42dEP/AFWG\n",
              "++ZAQMIX1cAnarEbh1WlSuBMtqNHDY0MhWp3kIHXimtqRgdNAAAALAGeOGpD/wBVkw6GQHrB1zFb\n",
              "rVWuVnDQKVT1EmNPlFJzCAixy851te0A/4UMAAABUEGaPUmoQWyZTAgn//61KoABvrDJmqiRp4an\n",
              "0ABrbC3p9/9Oy+6BO1qiydX29WuPPjEXt3F92RckPFrYkse2xQIpe+ssMc09L6a0LqdMsKsywAsA\n",
              "swP1wtXguRE87AownkOkHqm2vzZa3211h57g70DG83WqG+wXnJ1w4W3yNZYRDfzKrbBApRc79GyD\n",
              "G7OxqOtHjDaqQIw7T/tvvEexj4zIgwf6Ubt+keHwmOqAKDI80cRDti7ZyzpdRnsmEisBjTfjxKd3\n",
              "TrYx99gzPG1FbnJMK9Rr/db+KaqcJ9drc74C4mv5a6z5wDsK8hqHgrMv8cbjLr7uPn9rT+jyj0WB\n",
              "izo6QPyNIrj/a00xFndgFW8ZmR4fFwDcUxIxucveqcKRd/gGdDyWOdWgs2xh6DVvR0S5zRuCCmI2\n",
              "l/IcWpsZ3JeIkcE5dtpv/S0q3VzJd7xXwQAAADdBnltFFSwQ/wAmjdu0cCIUOYhKTXpjGcN/1ebC\n",
              "dn3IAe4w0hEghL8Iu+uqICa31ywnt+MHSQtoAAAAJwGeenRD/wBVhvvmQEC8ZhZgyEe/B7P3dgb+\n",
              "SE9VvcTNC2wSzjAhYQAAADQBnnxqQ/8AVZMOhkB6vLNe+0aF5p4NAiI1aDI2ZK91g3EQ9FIAPglI\n",
              "74YAHDn96j91rYM/AAABAUGaYUmoQWyZTAgj//61KoABvObnu4Ai0+2KMPVbKFIRDNn6ASMpxoXH\n",
              "8FdWqP4VhYcfi7qHo+8IO3YreI8ihVSDoZh0/XAXVcz5r4FDdASgvlOD1P06pQzLTXQGe309A15i\n",
              "RI08spqUjKZSAVyZ/GKNDaQ9aTmQD8WZKqXPrzb1Ucu4rJkAHkKbuZCsQEsZs4/mzeRGQ1w6JFQo\n",
              "TCWOhyyIQoC5e3tb+kSjJAAeQ76keK+3pdrMxBTVmOVp/7PP3QEeA+XLfzvbzS+TKX2UHOXhsBjW\n",
              "IHdlbpo1jJJbjg3Y0JHEJMXI0LI8t7YrCxFZCCdPk99a8Y/qdGuyNqqHEMf4AAAAOkGen0UVLBD/\n",
              "ACaN27RwIhQ7lVqc7tGbODGjA1bLytAsQU5Gy49nZUgxHVJ3Y6JEtxv5rMiIh28rCTgAAAAjAZ6+\n",
              "dEP/AFWG++ZAQLxmFmDNC9L1dMxs6hoLP8iYq+7ILuEAAAApAZ6gakP/AFWTDoZAepsc3mvlPgdR\n",
              "aHZPYHuHNrmV5p9yasMfB2jIYMAAAABEQZqjSahBbJlMFEw///6plgANoSynSNCLhsH8PbQFGz7A\n",
              "DRJfGidMrjmuLPQFt/7woSLNJYyRoYQJYkF+Z5hsT9/kY30AAAA7AZ7CakP/AFWXqUO4IFNh9wAB\n",
              "6ifDJ8QpTI/VkIW5VYqpowP0dPxKn6wYv0IAIs5EX0+OX8IcK8B19BwAAAe2bW9vdgAAAGxtdmhk\n",
              "AAAAAAAAAAAAAAAAAAAD6AAATiAAAQAAAQAAAAAAAAAAAAAAAAEAAAAAAAAAAAAAAAAAAAABAAAA\n",
              "AAAAAAAAAAAAAABAAAAAAAAAAAAAAAAAAAAAAAAAAAAAAAAAAAAAAAAAAgAABuB0cmFrAAAAXHRr\n",
              "aGQAAAADAAAAAAAAAAAAAAABAAAAAAAATiAAAAAAAAAAAAAAAAAAAAAAAAEAAAAAAAAAAAAAAAAA\n",
              "AAABAAAAAAAAAAAAAAAAAABAAAAAAbAAAAEgAAAAAAAkZWR0cwAAABxlbHN0AAAAAAAAAAEAAE4g\n",
              "AAAQAAABAAAAAAZYbWRpYQAAACBtZGhkAAAAAAAAAAAAAAAAAAAoAAADIABVxAAAAAAALWhkbHIA\n",
              "AAAAAAAAAHZpZGUAAAAAAAAAAAAAAABWaWRlb0hhbmRsZXIAAAAGA21pbmYAAAAUdm1oZAAAAAEA\n",
              "AAAAAAAAAAAAACRkaW5mAAAAHGRyZWYAAAAAAAAAAQAAAAx1cmwgAAAAAQAABcNzdGJsAAAAs3N0\n",
              "c2QAAAAAAAAAAQAAAKNhdmMxAAAAAAAAAAEAAAAAAAAAAAAAAAAAAAAAAbABIABIAAAASAAAAAAA\n",
              "AAABAAAAAAAAAAAAAAAAAAAAAAAAAAAAAAAAAAAAAAAAAAAAGP//AAAAMWF2Y0MBZAAV/+EAGGdk\n",
              "ABWs2UGwloQAAAMABAAAAwAoPFi2WAEABmjr48siwAAAABx1dWlka2hA8l8kT8W6OaUbzwMj8wAA\n",
              "AAAAAAAYc3R0cwAAAAAAAAABAAAAZAAACAAAAAAUc3RzcwAAAAAAAAABAAAAAQAAAwhjdHRzAAAA\n",
              "AAAAAF8AAAACAAAQAAAAAAEAABgAAAAAAQAACAAAAAABAAAQAAAAAAEAABgAAAAAAQAACAAAAAAB\n",
              "AAAYAAAAAAEAAAgAAAAAAQAAIAAAAAACAAAIAAAAAAEAABAAAAAAAQAAIAAAAAACAAAIAAAAAAEA\n",
              "ACgAAAAAAQAAEAAAAAABAAAAAAAAAAEAAAgAAAAAAQAAKAAAAAABAAAQAAAAAAEAAAAAAAAAAQAA\n",
              "CAAAAAABAAAgAAAAAAIAAAgAAAAAAQAAKAAAAAABAAAQAAAAAAEAAAAAAAAAAQAACAAAAAABAAAo\n",
              "AAAAAAEAABAAAAAAAQAAAAAAAAABAAAIAAAAAAEAACgAAAAAAQAAEAAAAAABAAAAAAAAAAEAAAgA\n",
              "AAAAAQAAKAAAAAABAAAQAAAAAAEAAAAAAAAAAQAACAAAAAABAAAoAAAAAAEAABAAAAAAAQAAAAAA\n",
              "AAABAAAIAAAAAAEAACgAAAAAAQAAEAAAAAABAAAAAAAAAAEAAAgAAAAAAQAAKAAAAAABAAAQAAAA\n",
              "AAEAAAAAAAAAAQAACAAAAAABAAAoAAAAAAEAABAAAAAAAQAAAAAAAAABAAAIAAAAAAEAACgAAAAA\n",
              "AQAAEAAAAAABAAAAAAAAAAEAAAgAAAAAAQAAIAAAAAACAAAIAAAAAAEAACgAAAAAAQAAEAAAAAAB\n",
              "AAAAAAAAAAEAAAgAAAAAAQAAKAAAAAABAAAQAAAAAAEAAAAAAAAAAQAACAAAAAABAAAoAAAAAAEA\n",
              "ABAAAAAAAQAAAAAAAAABAAAIAAAAAAEAACgAAAAAAQAAEAAAAAABAAAAAAAAAAEAAAgAAAAAAQAA\n",
              "KAAAAAABAAAQAAAAAAEAAAAAAAAAAQAACAAAAAABAAAoAAAAAAEAABAAAAAAAQAAAAAAAAABAAAI\n",
              "AAAAAAEAACgAAAAAAQAAEAAAAAABAAAAAAAAAAEAAAgAAAAAAQAAKAAAAAABAAAQAAAAAAEAAAAA\n",
              "AAAAAQAACAAAAAABAAAYAAAAAAEAAAgAAAAAHHN0c2MAAAAAAAAAAQAAAAEAAABkAAAAAQAAAaRz\n",
              "dHN6AAAAAAAAAAAAAABkAAAVkwAAAs4AAAM1AAAArwAAAaQAAAKwAAAAXAAAAnsAAABKAAACwwAA\n",
              "AHMAAAA/AAABrwAAAt0AAABLAAAALwAAAlwAAABWAAAAIwAAACwAAALDAAAAbQAAAC8AAAAhAAAC\n",
              "YQAAADIAAAAwAAACbgAAADsAAAAmAAAAKQAAApMAAABLAAAAOAAAADIAAAIJAAAAZQAAACsAAAA/\n",
              "AAAChgAAADsAAAAUAAAASgAAAr8AAABFAAAALwAAAEMAAAKTAAAAXQAAADoAAAA1AAACRQAAAEsA\n",
              "AAA7AAAAHgAAAmMAAAA+AAAAcAAAAHYAAALEAAAAOwAAAFAAAAAwAAACPwAAADsAAAA7AAACTwAA\n",
              "ADEAAAAgAAAAMgAAAg0AAAAtAAAAHwAAACgAAAJIAAAARQAAACcAAABQAAACMgAAADsAAAArAAAA\n",
              "NQAAAeoAAAAwAAAAIgAAACsAAAGMAAAAKwAAADEAAAAwAAABVAAAADsAAAArAAAAOAAAAQUAAAA+\n",
              "AAAAJwAAAC0AAABIAAAAPwAAABRzdGNvAAAAAAAAAAEAAAAsAAAAYnVkdGEAAABabWV0YQAAAAAA\n",
              "AAAhaGRscgAAAAAAAAAAbWRpcmFwcGwAAAAAAAAAAAAAAAAtaWxzdAAAACWpdG9vAAAAHWRhdGEA\n",
              "AAABAAAAAExhdmY1Ny44My4xMDA=\n",
              "\">\n",
              "  Your browser does not support the video tag.\n",
              "</video>"
            ],
            "text/plain": [
              "<IPython.core.display.HTML object>"
            ]
          },
          "metadata": {
            "tags": []
          },
          "execution_count": 55
        }
      ]
    }
  ]
}
