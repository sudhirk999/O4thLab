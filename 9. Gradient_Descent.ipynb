{
  "nbformat": 4,
  "nbformat_minor": 0,
  "metadata": {
    "colab": {
      "name": "9.Gradient Descent.ipynb",
      "version": "0.3.2",
      "provenance": [],
      "include_colab_link": true
    },
    "kernelspec": {
      "name": "python3",
      "display_name": "Python 3"
    }
  },
  "cells": [
    {
      "cell_type": "markdown",
      "metadata": {
        "id": "view-in-github",
        "colab_type": "text"
      },
      "source": [
        "<a href=\"https://colab.research.google.com/github/sudhirk999/O4thLab/blob/master/9.Gradient_Descent.ipynb\" target=\"_parent\"><img src=\"https://colab.research.google.com/assets/colab-badge.svg\" alt=\"Open In Colab\"/></a>"
      ]
    },
    {
      "metadata": {
        "id": "z0smFgDlQjGu",
        "colab_type": "text"
      },
      "cell_type": "markdown",
      "source": [
        "# IF ONLY ONE PARAMETER IS THERE"
      ]
    },
    {
      "metadata": {
        "id": "YMzD2gZhFke_",
        "colab_type": "code",
        "colab": {}
      },
      "cell_type": "code",
      "source": [
        "import numpy as np"
      ],
      "execution_count": 0,
      "outputs": []
    },
    {
      "metadata": {
        "id": "rkhswfTjF1ZD",
        "colab_type": "code",
        "colab": {}
      },
      "cell_type": "code",
      "source": [
        "X = [0.5, 2.5]\n",
        "Y = [0.2, 0.9]"
      ],
      "execution_count": 0,
      "outputs": []
    },
    {
      "metadata": {
        "id": "LZWxewMGI572",
        "colab_type": "code",
        "colab": {}
      },
      "cell_type": "code",
      "source": [
        "def sig(x, y, w, b):\n",
        "  ## as there is only one value of w and b \n",
        "  ## therefore we are doing simple multiplication(w*b)\n",
        "  return 1.0 / (1.0 + np.exp(-(w*x + b)))"
      ],
      "execution_count": 0,
      "outputs": []
    },
    {
      "metadata": {
        "id": "a8NqoKI7NBsm",
        "colab_type": "code",
        "colab": {}
      },
      "cell_type": "code",
      "source": [
        "def error(w, b):\n",
        "  err = 0.0\n",
        "  for x, y in zip(X,Y):\n",
        "    y_hat = sig(x, y, w, b)\n",
        "    err += 0.5 * (y_hat - y)**2\n",
        "  return err"
      ],
      "execution_count": 0,
      "outputs": []
    },
    {
      "metadata": {
        "id": "jHUXIGHyHuZH",
        "colab_type": "code",
        "colab": {}
      },
      "cell_type": "code",
      "source": [
        "def grad_w(x, y, w, b):\n",
        "  y_hat = sig(x, w, b)\n",
        "  return (y_hat - y) * (y_hat * (1 - fx) * x)"
      ],
      "execution_count": 0,
      "outputs": []
    },
    {
      "metadata": {
        "id": "obwAPkmpI2ie",
        "colab_type": "code",
        "colab": {}
      },
      "cell_type": "code",
      "source": [
        "def grad_b(x, y, w, b):\n",
        "  y_hat = sig(x, w, b)\n",
        "  return (y_hat - y) * (y_hat * (1 - fx))"
      ],
      "execution_count": 0,
      "outputs": []
    },
    {
      "metadata": {
        "id": "jrZqG89pF1x3",
        "colab_type": "code",
        "colab": {}
      },
      "cell_type": "code",
      "source": [
        "def gradient_descent():\n",
        "  w, b, eta = -2, -2, 1.0\n",
        "  max_epochs = 1000\n",
        "  \n",
        "  for epoch in range(epochs):\n",
        "    dw, db = 0, 0\n",
        "    for x, y in zip(X,y):\n",
        "      dw -= grad_w(x, y, w, b)\n",
        "      db -= grad_b(x, y, w, b)\n",
        "    w -= eta * dw\n",
        "    b -= eta * db"
      ],
      "execution_count": 0,
      "outputs": []
    },
    {
      "metadata": {
        "id": "1XQM8QIhRBEv",
        "colab_type": "text"
      },
      "cell_type": "markdown",
      "source": [
        "#  IF MORE THAN ONE PARAMETER IS THERE"
      ]
    },
    {
      "metadata": {
        "id": "VV7zvBfxRAtG",
        "colab_type": "code",
        "colab": {}
      },
      "cell_type": "code",
      "source": [
        "def sig(x, y, w, b):\n",
        "  return 1.0 / (1.0 + np.exp(-(np.dot(x, y) + b)))"
      ],
      "execution_count": 0,
      "outputs": []
    },
    {
      "metadata": {
        "id": "NlfYfzpJR78G",
        "colab_type": "code",
        "colab": {}
      },
      "cell_type": "code",
      "source": [
        "def grad_w(x, y, w, b):\n",
        "  y_hat = sig(x, w, b)\n",
        "  return (y_hat - y) * y_hat * (1 - y_hat) * x[i]"
      ],
      "execution_count": 0,
      "outputs": []
    }
  ]
}
